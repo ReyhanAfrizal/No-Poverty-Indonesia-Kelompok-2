{
  "nbformat": 4,
  "nbformat_minor": 0,
  "metadata": {
    "colab": {
      "provenance": [],
      "collapsed_sections": []
    },
    "kernelspec": {
      "name": "python3",
      "display_name": "Python 3"
    },
    "language_info": {
      "name": "python"
    }
  },
  "cells": [
    {
      "cell_type": "markdown",
      "source": [
        "Kelompok 2\n",
        "\n",
        "Ketua Proyek : 1197050114 - Reyhan Afrizal\n",
        "\n",
        "Anggota :\n",
        "\n",
        "- Annisa Sugi Pramesty\n",
        "\n",
        "- Irvan F\n",
        "\n",
        "- Naufal Riqullah\n",
        "\n",
        "Visualisasi Data"
      ],
      "metadata": {
        "id": "DzoAiAuGtBoG"
      }
    },
    {
      "cell_type": "markdown",
      "source": [
        "Tema : No Poverty\n",
        "\n",
        "Bussiness Understanding\n",
        "\n",
        "A. Objektif Bisnis\n",
        "- Latar Belakang Masalah\n",
        "\n",
        "  Angka kemiskinan merupakan indikator yang penting untuk menentukan kesejahteraan suatu negara. Saat ini terdapat agenda SDGs yang merupakan perwujudan pembangunan dunia yang bertujuan untuk kesejahteraan manusia dan planet bumi.SGDs mengarahkan setiap negera untuk mampu memenuhi indikator pencapaian yang salah satunya ialah No Poverty. Indikator ini membahas tentang ketercapaian pemberantasan kemiskinan yang ada. Salah satu cara untuk mencapai hal tersebut ialah dengan mengetahui angka kemiskinan dari suatu negara.\n",
        "\n",
        "  Negara Indonesia merupakan negara yang terdiri dari beragam pulau, provinsi, dan kota. Untuk dapat melakukan pemberantasan kemiskinan, maka diperlukan analisis dari ruang lingkup yang lebih kecil. Maka pada riset ini dilakukan analisis data perkembangan angka indeks kemiskinan di tiap provinsi dan kota yang ada di Indonesia.\n",
        "\n",
        "\n",
        "- Identifikasi Masalah\n",
        "\n",
        "  Bagaimana prediksi indeks kemiskinan di tiap provinsi di Indonesia pada tahun berikutnya (2022) ?\n",
        "  \n",
        "  Apakah jumlah penduduk mempengaruhi nilai indeks kemiskinan di Indonesia ?\n",
        "\n",
        "- Metode/Pendekatan Peneyelesaian Masalah\n",
        "\n",
        "  Metode yang digunakan untuk prediksi ini ialah algoritma regresi. Algoritma ini dipilih untuk menampilkan prediksi indeks angka kemiskinan berdasarkan data tahun tahun sebelumnya.\n",
        "\n",
        "B. Tujuan Teknis dan Kriteria Kesuksesan\n",
        "\n",
        "  - Adapun tujuan dari riset ini ialah : \n",
        "\n",
        "  Mampu memberikan nilai prediksi indeks kemiskinan di tiap provinsi di indonesia pada tahun berikutnya\n",
        "\n",
        "  Mampu membuktikan apakah jumlah penduduk mempengaruhi nilai indeks kemiskinan di indonesia atau tidak \n",
        "\n",
        "  - Kriteria Kesuksesan \n",
        "\n",
        "  Riset ini mampu menyajikan nilai prediksi dengan akurasi yang tinggi dan menyajikan nilai korelasi dari tiap indikator yang dibandingkan\n",
        "\n",
        "C. Timeline Mini Riset\n",
        "- 9 - 16 November 2022 - Fiksasi tema dan Bussiness Understanding\n",
        "- 17 - 23 November 2022 - Data Understanding\n",
        "- 24 - 30 November 2022 - Data Preparation\n",
        "- 1 - 7 Desember 2022 - Modelling\n",
        "- 8 - 14 Desember 2022 - Evaluasi Modelling\n",
        "- 15 - 21 Desember 2022 - Penyelesaian Laporan\n"
      ],
      "metadata": {
        "id": "MjBU4o9bt20g"
      }
    }
  ]
}