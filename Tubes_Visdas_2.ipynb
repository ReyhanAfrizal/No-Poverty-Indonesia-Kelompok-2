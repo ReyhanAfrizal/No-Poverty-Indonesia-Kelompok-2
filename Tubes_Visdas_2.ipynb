{
  "nbformat": 4,
  "nbformat_minor": 0,
  "metadata": {
    "colab": {
      "provenance": []
    },
    "kernelspec": {
      "name": "python3",
      "display_name": "Python 3"
    },
    "language_info": {
      "name": "python"
    }
  },
  "cells": [
    {
      "cell_type": "markdown",
      "source": [
        "Kelompok 2\n",
        "\n",
        "Ketua Proyek : 1197050114 - Reyhan Afrizal\n",
        "\n",
        "Anggota :\n",
        "\n",
        "- Annisa Sugi Pramesty\n",
        "\n",
        "- Irvan F\n",
        "\n",
        "- Naufal Riqullah\n",
        "\n",
        "Visualisasi Data"
      ],
      "metadata": {
        "id": "DzoAiAuGtBoG"
      }
    },
    {
      "cell_type": "markdown",
      "source": [
        "Tema : No Poverty\n",
        "\n",
        "# **BAB 1  : Bussiness Understanding**\n",
        "\n",
        "**A. Objektif Bisnis**\n",
        "- Latar Belakang Masalah\n",
        "\n",
        "  Angka kemiskinan merupakan indikator yang penting untuk menentukan kesejahteraan suatu negara. Saat ini terdapat agenda SDGs yang merupakan perwujudan pembangunan dunia yang bertujuan untuk kesejahteraan manusia dan planet bumi.SGDs mengarahkan setiap negera untuk mampu memenuhi indikator pencapaian yang salah satunya ialah No Poverty. Indikator ini membahas tentang ketercapaian pemberantasan kemiskinan yang ada. Salah satu cara untuk mencapai hal tersebut ialah dengan mengetahui angka kemiskinan dari suatu negara.\n",
        "\n",
        "  Negara Indonesia merupakan negara yang terdiri dari beragam pulau, provinsi, dan kota. Untuk dapat melakukan pemberantasan kemiskinan, maka diperlukan analisis dari ruang lingkup yang lebih kecil. Maka pada riset ini dilakukan analisis data perkembangan angka indeks kemiskinan di tiap provinsi dan kota yang ada di Indonesia.\n",
        "\n",
        "\n",
        "- Identifikasi Masalah\n",
        "\n",
        "  Bagaimana prediksi indeks kemiskinan di tiap provinsi di Indonesia pada tahun berikutnya (2022) ?\n",
        "  \n",
        "  Apakah jumlah penduduk mempengaruhi persentase kemiskinan di Indonesia ?\n",
        "\n",
        "- Metode/Pendekatan Peneyelesaian Masalah\n",
        "\n",
        "  Metode yang digunakan untuk prediksi ini ialah algoritma regresi. Algoritma ini dipilih untuk menampilkan prediksi indeks angka kemiskinan berdasarkan data tahun tahun sebelumnya.\n",
        "\n",
        "**B. Tujuan Teknis dan Kriteria Kesuksesan**\n",
        "\n",
        "  - Adapun tujuan dari riset ini ialah : \n",
        "\n",
        "  Mampu memberikan nilai prediksi indeks kemiskinan di tiap provinsi di indonesia pada tahun berikutnya\n",
        "\n",
        "  Mampu membuktikan apakah jumlah penduduk mempengaruhi persentase kemiskinan di indonesia atau tidak \n",
        "\n",
        "  - Kriteria Kesuksesan \n",
        "\n",
        "  Riset ini mampu menyajikan nilai prediksi dengan akurasi yang tinggi dan menyajikan nilai korelasi dari tiap indikator yang dibandingkan\n",
        "\n",
        "**C. Timeline Mini Riset**\n",
        "- 9 - 16 November 2022 - Fiksasi tema dan Bussiness Understanding\n",
        "- 17 - 23 November 2022 - Data Understanding\n",
        "- 24 - 30 November 2022 - Data Preparation\n",
        "- 1 - 7 Desember 2022 - Modelling\n",
        "- 8 - 14 Desember 2022 - Evaluasi Modelling\n",
        "- 15 - 21 Desember 2022 - Penyelesaian Laporan\n"
      ],
      "metadata": {
        "id": "MjBU4o9bt20g"
      }
    },
    {
      "cell_type": "markdown",
      "source": [
        "# **BAB 2  : Data Understanding**\n",
        "\n",
        "**A. Kebutuhan Data**\n",
        "\n",
        "- Variabel Terikat : Jumlah Penduduk Miskin Tiap Daerah, Garis Kemiskinan Manakan, Garis Kemiskinan Non Makanan, Persentase Penduduk Miskin, Indeks Kedalaman Kemiskinan, Indeks Keparahan Kemiskinan, Gini Rasio\n",
        "\n",
        "- Variabel Bebas  : Tahun\n",
        "\n",
        "- Variabel Waktu  : Data 7 Tahun Terakhir (2015-2021)\n",
        "\n",
        "\n",
        "**B. Pengambilan Data**\n",
        "\n",
        "> Data kami ambil berdasarkan data yang dikeluarkan oleh BPS. BPS adalah kependekan dari Badan Pusat Statistik yang merupakan lembaga yang menyediakan informasi data statistik pada skala nasional dan regional di Indonesia.\n",
        "\n",
        "**C. Integrasi Data**\n",
        "> Sehubungan dengan data yang di sediakan oleh BPS merupakan data yang disimpan dalam 1 kategori maka kami melakukan integrasi dari masing masing kategori data yang kami perlukan.\n",
        "\n",
        "**D. Telaah Data**\n",
        "> Berdasarkan kategori data yang sudah di integrasikan sesuai dengan kebutuhan, maka data akan di cocokan kembali apakah data tersebut sudah sesuai ataukah masih terdapat duplikasi data.\n",
        "\n",
        "**E. Analisis Karakteristik Data**\n",
        "> Dalam penelitian ini peneliti akan berfokus pada nilai angka yang bersifat numerik. Maka data yang akan di analisis akan berformat numerik seperti integer atau float. \n",
        "\n",
        "**F. Validasi Data**\n",
        "> Data yang telah sesuai dengan kebutuhan dapat divalidasi bila merupakan persentase maka nilai berada diantara 0-1 atau 0%-100%.\n"
      ],
      "metadata": {
        "id": "nebIhZSVSnkO"
      }
    }
  ]
}