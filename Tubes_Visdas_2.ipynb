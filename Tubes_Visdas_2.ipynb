{
 "cells": [
  {
   "cell_type": "markdown",
   "metadata": {
    "id": "DzoAiAuGtBoG"
   },
   "source": [
    "Kelompok 2\n",
    "\n",
    "Ketua Proyek : 1197050114 - Reyhan Afrizal\n",
    "\n",
    "Anggota :\n",
    "\n",
    "- Annisa Sugi Pramesty\n",
    "\n",
    "- Irvan F\n",
    "\n",
    "- Naufal Riqullah\n",
    "\n",
    "Visualisasi Data"
   ]
  },
  {
   "cell_type": "markdown",
   "metadata": {
    "id": "MjBU4o9bt20g"
   },
   "source": [
    "Tema : No Poverty\n",
    "\n",
    "# **BAB 1  : Bussiness Understanding**\n",
    "\n",
    "**A. Objektif Bisnis**\n",
    "- Latar Belakang Masalah\n",
    "\n",
    "  Angka kemiskinan merupakan indikator yang penting untuk menentukan kesejahteraan suatu negara. Saat ini terdapat agenda SDGs yang merupakan perwujudan pembangunan dunia yang bertujuan untuk kesejahteraan manusia dan planet bumi.SGDs mengarahkan setiap negera untuk mampu memenuhi indikator pencapaian yang salah satunya ialah No Poverty. Indikator ini membahas tentang ketercapaian pemberantasan kemiskinan yang ada. Salah satu cara untuk mencapai hal tersebut ialah dengan mengetahui angka kemiskinan dari suatu negara.\n",
    "\n",
    "  Negara Indonesia merupakan negara yang terdiri dari beragam pulau, provinsi, dan kota. Untuk dapat melakukan pemberantasan kemiskinan, maka diperlukan analisis dari ruang lingkup yang lebih kecil. Maka pada riset ini dilakukan analisis data perkembangan angka indeks kemiskinan di tiap provinsi yang ada di Indonesia.\n",
    "\n",
    "\n",
    "- Identifikasi Masalah\n",
    "\n",
    "  Bagaimana prediksi indeks kemiskinan di tiap provinsi di Indonesia pada tahun berikutnya ?\n",
    "  \n",
    "  Dimana daerah yang perlu diperhatikan berdasarkan persentase kemiskinannya ?\n",
    "\n",
    "- Metode/Pendekatan Peneyelesaian Masalah\n",
    "\n",
    "  Metode yang digunakan untuk prediksi ini ialah algoritma regresi linear sederhana. Algoritma ini dipilih untuk menampilkan prediksi indeks angka kemiskinan berdasarkan data tahun tahun sebelumnya.\n",
    "\n",
    "**B. Tujuan Teknis dan Kriteria Kesuksesan**\n",
    "\n",
    "  - Adapun tujuan dari riset ini ialah : \n",
    "\n",
    "  Mampu memberikan nilai prediksi indeks kemiskinan di tiap provinsi di indonesia pada tahun berikutnya\n",
    "  \n",
    "  Mampu menentukan dimana daerah yang perlu diperhatikan berdasarkan persentase kemiskinannya\n",
    "\n",
    "  - Kriteria Kesuksesan \n",
    "\n",
    "  Riset ini mampu menyajikan nilai prediksi dengan akurasi yang tinggi dan menyajikan nilai korelasi dari tiap indikator yang dibandingkan\n",
    "\n",
    "**C. Timeline Mini Riset**\n",
    "- 9 - 16 November 2022 - Fiksasi tema dan Bussiness Understanding\n",
    "- 17 - 23 November 2022 - Data Understanding\n",
    "- 24 - 30 November 2022 - Data Preparation\n",
    "- 1 - 7 Desember 2022 - Modelling\n",
    "- 8 - 14 Desember 2022 - Evaluasi Modelling\n",
    "- 15 - 21 Desember 2022 - Penyelesaian Laporan\n"
   ]
  },
  {
   "cell_type": "markdown",
   "metadata": {
    "id": "nebIhZSVSnkO"
   },
   "source": [
    "# **BAB 2  : Data Understanding**\n",
    "\n",
    "**A. Kebutuhan Data**\n",
    "\n",
    "- Variabel Terikat : Jumlah Penduduk Miskin Tiap Daerah, Garis Kemiskinan Makanan, Garis Kemiskinan Non Makanan, Persentase Penduduk Miskin, Gini Rasio\n",
    "\n",
    "- Variabel Bebas  : Tahun\n",
    "\n",
    "- Variabel Waktu  : Data 8 Tahun Terakhir (2015-2022)\n",
    "\n",
    "\n",
    "**B. Pengambilan Data**\n",
    "\n",
    "> Data kami ambil berdasarkan data yang dikeluarkan oleh BPS. BPS adalah kependekan dari Badan Pusat Statistik yang merupakan lembaga yang menyediakan informasi data statistik pada skala nasional dan regional di Indonesia.\n",
    "\n",
    "**C. Integrasi Data**\n",
    "> Sehubungan dengan data yang di sediakan oleh BPS merupakan data yang disimpan dalam 1 kategori maka kami melakukan integrasi dari masing masing kategori data yang kami perlukan.\n",
    "\n",
    "**D. Telaah Data**\n",
    "> Berdasarkan kategori data yang sudah di integrasikan sesuai dengan kebutuhan, maka data akan di cocokan kembali apakah data tersebut sudah sesuai ataukah masih terdapat duplikasi data.\n",
    "\n",
    "**E. Analisis Karakteristik Data**\n",
    "> Dalam penelitian ini peneliti akan berfokus pada nilai angka yang bersifat numerik. Maka data yang akan di analisis akan berformat numerik seperti integer atau float. \n",
    "\n",
    "**F. Validasi Data**\n",
    "> Data yang telah sesuai dengan kebutuhan dapat divalidasi bila merupakan persentase maka nilai berada diantara 0-1 atau 0%-100%.\n"
   ]
  },
  {
   "cell_type": "markdown",
   "metadata": {
    "id": "UINU4MwKtpVC"
   },
   "source": [
    "# BAB 3 : Data Preparation\n",
    "# A. Pemilahan Data\n",
    "> Di inputkan data yang sudah di unduh untuk dilakukan pemilahan sesuai dengan kebutuhan data. Data yang di inputkan disajikan dalam tabel untuk memudahkan melihat data yang sudah dikumpulkan. Selain itu dipastikan juga format dari masing masing kolom yang sudah dikumpulkan.\n"
   ]
  },
  {
   "cell_type": "code",
   "execution_count": 1093,
   "metadata": {},
   "outputs": [
    {
     "data": {
      "text/html": [
       "<div>\n",
       "<style scoped>\n",
       "    .dataframe tbody tr th:only-of-type {\n",
       "        vertical-align: middle;\n",
       "    }\n",
       "\n",
       "    .dataframe tbody tr th {\n",
       "        vertical-align: top;\n",
       "    }\n",
       "\n",
       "    .dataframe thead th {\n",
       "        text-align: right;\n",
       "    }\n",
       "</style>\n",
       "<table border=\"1\" class=\"dataframe\">\n",
       "  <thead>\n",
       "    <tr style=\"text-align: right;\">\n",
       "      <th></th>\n",
       "      <th>Wilayah</th>\n",
       "      <th>Tahun</th>\n",
       "      <th>Garis Kemiskinan Makanan (Rupiah/Kapita/Bulan)</th>\n",
       "      <th>Garis Kemiskinan Non Makanan (Rupiah/Kapita/Bulan)</th>\n",
       "      <th>Jumlah Penduduk Miskin (Ribu Jiwa)</th>\n",
       "      <th>Persentase Masyarakat Miskin</th>\n",
       "      <th>Gini Rasio</th>\n",
       "    </tr>\n",
       "  </thead>\n",
       "  <tbody>\n",
       "    <tr>\n",
       "      <th>0</th>\n",
       "      <td>ACEH</td>\n",
       "      <td>2022</td>\n",
       "      <td>438658.0</td>\n",
       "      <td>140570</td>\n",
       "      <td>806.82</td>\n",
       "      <td>14.64</td>\n",
       "      <td>0.311</td>\n",
       "    </tr>\n",
       "    <tr>\n",
       "      <th>1</th>\n",
       "      <td>SUMATERA UTARA</td>\n",
       "      <td>2022</td>\n",
       "      <td>423760.0</td>\n",
       "      <td>137244</td>\n",
       "      <td>1268.19</td>\n",
       "      <td>8.42</td>\n",
       "      <td>0.312</td>\n",
       "    </tr>\n",
       "    <tr>\n",
       "      <th>2</th>\n",
       "      <td>SUMATERA BARAT</td>\n",
       "      <td>2022</td>\n",
       "      <td>462910.0</td>\n",
       "      <td>148030</td>\n",
       "      <td>335.21</td>\n",
       "      <td>5.92</td>\n",
       "      <td>0.300</td>\n",
       "    </tr>\n",
       "    <tr>\n",
       "      <th>3</th>\n",
       "      <td>RIAU</td>\n",
       "      <td>2022</td>\n",
       "      <td>441535.0</td>\n",
       "      <td>164377</td>\n",
       "      <td>485.03</td>\n",
       "      <td>6.78</td>\n",
       "      <td>0.326</td>\n",
       "    </tr>\n",
       "    <tr>\n",
       "      <th>4</th>\n",
       "      <td>JAMBI</td>\n",
       "      <td>2022</td>\n",
       "      <td>411537.0</td>\n",
       "      <td>134333</td>\n",
       "      <td>279.37</td>\n",
       "      <td>7.62</td>\n",
       "      <td>0.320</td>\n",
       "    </tr>\n",
       "    <tr>\n",
       "      <th>...</th>\n",
       "      <td>...</td>\n",
       "      <td>...</td>\n",
       "      <td>...</td>\n",
       "      <td>...</td>\n",
       "      <td>...</td>\n",
       "      <td>...</td>\n",
       "      <td>...</td>\n",
       "    </tr>\n",
       "    <tr>\n",
       "      <th>275</th>\n",
       "      <td>MALUKU</td>\n",
       "      <td>2015</td>\n",
       "      <td>306768.0</td>\n",
       "      <td>92864</td>\n",
       "      <td>328.41</td>\n",
       "      <td>19.51</td>\n",
       "      <td>0.340</td>\n",
       "    </tr>\n",
       "    <tr>\n",
       "      <th>276</th>\n",
       "      <td>MALUKU UTARA</td>\n",
       "      <td>2015</td>\n",
       "      <td>275361.0</td>\n",
       "      <td>68726</td>\n",
       "      <td>79.90</td>\n",
       "      <td>6.84</td>\n",
       "      <td>0.280</td>\n",
       "    </tr>\n",
       "    <tr>\n",
       "      <th>277</th>\n",
       "      <td>PAPUA BARAT</td>\n",
       "      <td>2015</td>\n",
       "      <td>346975.0</td>\n",
       "      <td>94594</td>\n",
       "      <td>225.36</td>\n",
       "      <td>25.82</td>\n",
       "      <td>0.440</td>\n",
       "    </tr>\n",
       "    <tr>\n",
       "      <th>278</th>\n",
       "      <td>PAPUA</td>\n",
       "      <td>2015</td>\n",
       "      <td>302807.0</td>\n",
       "      <td>99224</td>\n",
       "      <td>859.15</td>\n",
       "      <td>28.17</td>\n",
       "      <td>0.421</td>\n",
       "    </tr>\n",
       "    <tr>\n",
       "      <th>279</th>\n",
       "      <td>INDONESIA</td>\n",
       "      <td>2015</td>\n",
       "      <td>242241.0</td>\n",
       "      <td>88535</td>\n",
       "      <td>28592.79</td>\n",
       "      <td>11.22</td>\n",
       "      <td>0.408</td>\n",
       "    </tr>\n",
       "  </tbody>\n",
       "</table>\n",
       "<p>280 rows × 7 columns</p>\n",
       "</div>"
      ],
      "text/plain": [
       "            Wilayah  Tahun  Garis Kemiskinan Makanan (Rupiah/Kapita/Bulan)  \\\n",
       "0              ACEH   2022                                        438658.0   \n",
       "1    SUMATERA UTARA   2022                                        423760.0   \n",
       "2    SUMATERA BARAT   2022                                        462910.0   \n",
       "3              RIAU   2022                                        441535.0   \n",
       "4             JAMBI   2022                                        411537.0   \n",
       "..              ...    ...                                             ...   \n",
       "275          MALUKU   2015                                        306768.0   \n",
       "276    MALUKU UTARA   2015                                        275361.0   \n",
       "277     PAPUA BARAT   2015                                        346975.0   \n",
       "278           PAPUA   2015                                        302807.0   \n",
       "279       INDONESIA   2015                                        242241.0   \n",
       "\n",
       "     Garis Kemiskinan Non Makanan (Rupiah/Kapita/Bulan)  \\\n",
       "0                                               140570    \n",
       "1                                               137244    \n",
       "2                                               148030    \n",
       "3                                               164377    \n",
       "4                                               134333    \n",
       "..                                                 ...    \n",
       "275                                              92864    \n",
       "276                                              68726    \n",
       "277                                              94594    \n",
       "278                                              99224    \n",
       "279                                              88535    \n",
       "\n",
       "     Jumlah Penduduk Miskin (Ribu Jiwa)  Persentase Masyarakat Miskin  \\\n",
       "0                                806.82                         14.64   \n",
       "1                               1268.19                          8.42   \n",
       "2                                335.21                          5.92   \n",
       "3                                485.03                          6.78   \n",
       "4                                279.37                          7.62   \n",
       "..                                  ...                           ...   \n",
       "275                              328.41                         19.51   \n",
       "276                               79.90                          6.84   \n",
       "277                              225.36                         25.82   \n",
       "278                              859.15                         28.17   \n",
       "279                            28592.79                         11.22   \n",
       "\n",
       "     Gini Rasio  \n",
       "0         0.311  \n",
       "1         0.312  \n",
       "2         0.300  \n",
       "3         0.326  \n",
       "4         0.320  \n",
       "..          ...  \n",
       "275       0.340  \n",
       "276       0.280  \n",
       "277       0.440  \n",
       "278       0.421  \n",
       "279       0.408  \n",
       "\n",
       "[280 rows x 7 columns]"
      ]
     },
     "execution_count": 1093,
     "metadata": {},
     "output_type": "execute_result"
    }
   ],
   "source": [
    "import pandas as pd\n",
    "\n",
    "df=pd.read_csv('Data Final.csv', sep = ';')\n",
    "df"
   ]
  },
  {
   "cell_type": "code",
   "execution_count": 1094,
   "metadata": {},
   "outputs": [
    {
     "name": "stdout",
     "output_type": "stream",
     "text": [
      "<class 'pandas.core.frame.DataFrame'>\n",
      "RangeIndex: 280 entries, 0 to 279\n",
      "Data columns (total 7 columns):\n",
      " #   Column                                              Non-Null Count  Dtype  \n",
      "---  ------                                              --------------  -----  \n",
      " 0   Wilayah                                             280 non-null    object \n",
      " 1   Tahun                                               280 non-null    int64  \n",
      " 2   Garis Kemiskinan Makanan (Rupiah/Kapita/Bulan)      280 non-null    float64\n",
      " 3   Garis Kemiskinan Non Makanan (Rupiah/Kapita/Bulan)  280 non-null    int64  \n",
      " 4   Jumlah Penduduk Miskin (Ribu Jiwa)                  280 non-null    float64\n",
      " 5   Persentase Masyarakat Miskin                        280 non-null    float64\n",
      " 6   Gini Rasio                                          280 non-null    float64\n",
      "dtypes: float64(4), int64(2), object(1)\n",
      "memory usage: 15.4+ KB\n"
     ]
    }
   ],
   "source": [
    "df.info()"
   ]
  },
  {
   "cell_type": "code",
   "execution_count": 1095,
   "metadata": {},
   "outputs": [],
   "source": [
    "df['Garis Kemiskinan Makanan (Rupiah/Kapita/Bulan)']=df['Garis Kemiskinan Makanan (Rupiah/Kapita/Bulan)'].astype('int64')"
   ]
  },
  {
   "cell_type": "code",
   "execution_count": 1096,
   "metadata": {},
   "outputs": [
    {
     "data": {
      "text/html": [
       "<div>\n",
       "<style scoped>\n",
       "    .dataframe tbody tr th:only-of-type {\n",
       "        vertical-align: middle;\n",
       "    }\n",
       "\n",
       "    .dataframe tbody tr th {\n",
       "        vertical-align: top;\n",
       "    }\n",
       "\n",
       "    .dataframe thead th {\n",
       "        text-align: right;\n",
       "    }\n",
       "</style>\n",
       "<table border=\"1\" class=\"dataframe\">\n",
       "  <thead>\n",
       "    <tr style=\"text-align: right;\">\n",
       "      <th></th>\n",
       "      <th>Wilayah</th>\n",
       "      <th>Tahun</th>\n",
       "      <th>Garis Kemiskinan Makanan (Rupiah/Kapita/Bulan)</th>\n",
       "      <th>Garis Kemiskinan Non Makanan (Rupiah/Kapita/Bulan)</th>\n",
       "      <th>Jumlah Penduduk Miskin (Ribu Jiwa)</th>\n",
       "      <th>Persentase Masyarakat Miskin</th>\n",
       "      <th>Gini Rasio</th>\n",
       "    </tr>\n",
       "  </thead>\n",
       "  <tbody>\n",
       "    <tr>\n",
       "      <th>0</th>\n",
       "      <td>ACEH</td>\n",
       "      <td>2022</td>\n",
       "      <td>438658</td>\n",
       "      <td>140570</td>\n",
       "      <td>806.82</td>\n",
       "      <td>14.64</td>\n",
       "      <td>0.311</td>\n",
       "    </tr>\n",
       "    <tr>\n",
       "      <th>1</th>\n",
       "      <td>SUMATERA UTARA</td>\n",
       "      <td>2022</td>\n",
       "      <td>423760</td>\n",
       "      <td>137244</td>\n",
       "      <td>1268.19</td>\n",
       "      <td>8.42</td>\n",
       "      <td>0.312</td>\n",
       "    </tr>\n",
       "    <tr>\n",
       "      <th>2</th>\n",
       "      <td>SUMATERA BARAT</td>\n",
       "      <td>2022</td>\n",
       "      <td>462910</td>\n",
       "      <td>148030</td>\n",
       "      <td>335.21</td>\n",
       "      <td>5.92</td>\n",
       "      <td>0.300</td>\n",
       "    </tr>\n",
       "    <tr>\n",
       "      <th>3</th>\n",
       "      <td>RIAU</td>\n",
       "      <td>2022</td>\n",
       "      <td>441535</td>\n",
       "      <td>164377</td>\n",
       "      <td>485.03</td>\n",
       "      <td>6.78</td>\n",
       "      <td>0.326</td>\n",
       "    </tr>\n",
       "    <tr>\n",
       "      <th>4</th>\n",
       "      <td>JAMBI</td>\n",
       "      <td>2022</td>\n",
       "      <td>411537</td>\n",
       "      <td>134333</td>\n",
       "      <td>279.37</td>\n",
       "      <td>7.62</td>\n",
       "      <td>0.320</td>\n",
       "    </tr>\n",
       "    <tr>\n",
       "      <th>...</th>\n",
       "      <td>...</td>\n",
       "      <td>...</td>\n",
       "      <td>...</td>\n",
       "      <td>...</td>\n",
       "      <td>...</td>\n",
       "      <td>...</td>\n",
       "      <td>...</td>\n",
       "    </tr>\n",
       "    <tr>\n",
       "      <th>275</th>\n",
       "      <td>MALUKU</td>\n",
       "      <td>2015</td>\n",
       "      <td>306768</td>\n",
       "      <td>92864</td>\n",
       "      <td>328.41</td>\n",
       "      <td>19.51</td>\n",
       "      <td>0.340</td>\n",
       "    </tr>\n",
       "    <tr>\n",
       "      <th>276</th>\n",
       "      <td>MALUKU UTARA</td>\n",
       "      <td>2015</td>\n",
       "      <td>275361</td>\n",
       "      <td>68726</td>\n",
       "      <td>79.90</td>\n",
       "      <td>6.84</td>\n",
       "      <td>0.280</td>\n",
       "    </tr>\n",
       "    <tr>\n",
       "      <th>277</th>\n",
       "      <td>PAPUA BARAT</td>\n",
       "      <td>2015</td>\n",
       "      <td>346975</td>\n",
       "      <td>94594</td>\n",
       "      <td>225.36</td>\n",
       "      <td>25.82</td>\n",
       "      <td>0.440</td>\n",
       "    </tr>\n",
       "    <tr>\n",
       "      <th>278</th>\n",
       "      <td>PAPUA</td>\n",
       "      <td>2015</td>\n",
       "      <td>302807</td>\n",
       "      <td>99224</td>\n",
       "      <td>859.15</td>\n",
       "      <td>28.17</td>\n",
       "      <td>0.421</td>\n",
       "    </tr>\n",
       "    <tr>\n",
       "      <th>279</th>\n",
       "      <td>INDONESIA</td>\n",
       "      <td>2015</td>\n",
       "      <td>242241</td>\n",
       "      <td>88535</td>\n",
       "      <td>28592.79</td>\n",
       "      <td>11.22</td>\n",
       "      <td>0.408</td>\n",
       "    </tr>\n",
       "  </tbody>\n",
       "</table>\n",
       "<p>280 rows × 7 columns</p>\n",
       "</div>"
      ],
      "text/plain": [
       "            Wilayah  Tahun  Garis Kemiskinan Makanan (Rupiah/Kapita/Bulan)  \\\n",
       "0              ACEH   2022                                          438658   \n",
       "1    SUMATERA UTARA   2022                                          423760   \n",
       "2    SUMATERA BARAT   2022                                          462910   \n",
       "3              RIAU   2022                                          441535   \n",
       "4             JAMBI   2022                                          411537   \n",
       "..              ...    ...                                             ...   \n",
       "275          MALUKU   2015                                          306768   \n",
       "276    MALUKU UTARA   2015                                          275361   \n",
       "277     PAPUA BARAT   2015                                          346975   \n",
       "278           PAPUA   2015                                          302807   \n",
       "279       INDONESIA   2015                                          242241   \n",
       "\n",
       "     Garis Kemiskinan Non Makanan (Rupiah/Kapita/Bulan)  \\\n",
       "0                                               140570    \n",
       "1                                               137244    \n",
       "2                                               148030    \n",
       "3                                               164377    \n",
       "4                                               134333    \n",
       "..                                                 ...    \n",
       "275                                              92864    \n",
       "276                                              68726    \n",
       "277                                              94594    \n",
       "278                                              99224    \n",
       "279                                              88535    \n",
       "\n",
       "     Jumlah Penduduk Miskin (Ribu Jiwa)  Persentase Masyarakat Miskin  \\\n",
       "0                                806.82                         14.64   \n",
       "1                               1268.19                          8.42   \n",
       "2                                335.21                          5.92   \n",
       "3                                485.03                          6.78   \n",
       "4                                279.37                          7.62   \n",
       "..                                  ...                           ...   \n",
       "275                              328.41                         19.51   \n",
       "276                               79.90                          6.84   \n",
       "277                              225.36                         25.82   \n",
       "278                              859.15                         28.17   \n",
       "279                            28592.79                         11.22   \n",
       "\n",
       "     Gini Rasio  \n",
       "0         0.311  \n",
       "1         0.312  \n",
       "2         0.300  \n",
       "3         0.326  \n",
       "4         0.320  \n",
       "..          ...  \n",
       "275       0.340  \n",
       "276       0.280  \n",
       "277       0.440  \n",
       "278       0.421  \n",
       "279       0.408  \n",
       "\n",
       "[280 rows x 7 columns]"
      ]
     },
     "execution_count": 1096,
     "metadata": {},
     "output_type": "execute_result"
    }
   ],
   "source": [
    "df"
   ]
  },
  {
   "cell_type": "code",
   "execution_count": 1097,
   "metadata": {},
   "outputs": [
    {
     "data": {
      "text/plain": [
       "Wilayah                                                object\n",
       "Tahun                                                   int64\n",
       "Garis Kemiskinan Makanan (Rupiah/Kapita/Bulan)          int64\n",
       "Garis Kemiskinan Non Makanan (Rupiah/Kapita/Bulan)      int64\n",
       "Jumlah Penduduk Miskin (Ribu Jiwa)                    float64\n",
       "Persentase Masyarakat Miskin                          float64\n",
       "Gini Rasio                                            float64\n",
       "dtype: object"
      ]
     },
     "execution_count": 1097,
     "metadata": {},
     "output_type": "execute_result"
    }
   ],
   "source": [
    "df.dtypes"
   ]
  },
  {
   "cell_type": "markdown",
   "metadata": {
    "id": "bFUG0cqavd9I"
   },
   "source": [
    "# B. Pembersihan Data\n",
    "> Berdasarkan data yang sudah di inputkan di lakukan pembersihan data dengan menghapus data yang bersifat null/kosong dan di cocokan dengan validasi data yang sudah di tentukan sebelumnya."
   ]
  },
  {
   "cell_type": "code",
   "execution_count": 1098,
   "metadata": {},
   "outputs": [
    {
     "data": {
      "text/html": [
       "<div>\n",
       "<style scoped>\n",
       "    .dataframe tbody tr th:only-of-type {\n",
       "        vertical-align: middle;\n",
       "    }\n",
       "\n",
       "    .dataframe tbody tr th {\n",
       "        vertical-align: top;\n",
       "    }\n",
       "\n",
       "    .dataframe thead th {\n",
       "        text-align: right;\n",
       "    }\n",
       "</style>\n",
       "<table border=\"1\" class=\"dataframe\">\n",
       "  <thead>\n",
       "    <tr style=\"text-align: right;\">\n",
       "      <th></th>\n",
       "      <th>Wilayah</th>\n",
       "      <th>Tahun</th>\n",
       "      <th>Garis Kemiskinan Makanan (Rupiah/Kapita/Bulan)</th>\n",
       "      <th>Garis Kemiskinan Non Makanan (Rupiah/Kapita/Bulan)</th>\n",
       "      <th>Jumlah Penduduk Miskin (Ribu Jiwa)</th>\n",
       "      <th>Persentase Masyarakat Miskin</th>\n",
       "      <th>Gini Rasio</th>\n",
       "    </tr>\n",
       "  </thead>\n",
       "  <tbody>\n",
       "    <tr>\n",
       "      <th>0</th>\n",
       "      <td>ACEH</td>\n",
       "      <td>2022</td>\n",
       "      <td>438658</td>\n",
       "      <td>140570</td>\n",
       "      <td>806.82</td>\n",
       "      <td>14.64</td>\n",
       "      <td>0.311</td>\n",
       "    </tr>\n",
       "    <tr>\n",
       "      <th>1</th>\n",
       "      <td>SUMATERA UTARA</td>\n",
       "      <td>2022</td>\n",
       "      <td>423760</td>\n",
       "      <td>137244</td>\n",
       "      <td>1268.19</td>\n",
       "      <td>8.42</td>\n",
       "      <td>0.312</td>\n",
       "    </tr>\n",
       "    <tr>\n",
       "      <th>2</th>\n",
       "      <td>SUMATERA BARAT</td>\n",
       "      <td>2022</td>\n",
       "      <td>462910</td>\n",
       "      <td>148030</td>\n",
       "      <td>335.21</td>\n",
       "      <td>5.92</td>\n",
       "      <td>0.300</td>\n",
       "    </tr>\n",
       "    <tr>\n",
       "      <th>3</th>\n",
       "      <td>RIAU</td>\n",
       "      <td>2022</td>\n",
       "      <td>441535</td>\n",
       "      <td>164377</td>\n",
       "      <td>485.03</td>\n",
       "      <td>6.78</td>\n",
       "      <td>0.326</td>\n",
       "    </tr>\n",
       "    <tr>\n",
       "      <th>4</th>\n",
       "      <td>JAMBI</td>\n",
       "      <td>2022</td>\n",
       "      <td>411537</td>\n",
       "      <td>134333</td>\n",
       "      <td>279.37</td>\n",
       "      <td>7.62</td>\n",
       "      <td>0.320</td>\n",
       "    </tr>\n",
       "    <tr>\n",
       "      <th>...</th>\n",
       "      <td>...</td>\n",
       "      <td>...</td>\n",
       "      <td>...</td>\n",
       "      <td>...</td>\n",
       "      <td>...</td>\n",
       "      <td>...</td>\n",
       "      <td>...</td>\n",
       "    </tr>\n",
       "    <tr>\n",
       "      <th>275</th>\n",
       "      <td>MALUKU</td>\n",
       "      <td>2015</td>\n",
       "      <td>306768</td>\n",
       "      <td>92864</td>\n",
       "      <td>328.41</td>\n",
       "      <td>19.51</td>\n",
       "      <td>0.340</td>\n",
       "    </tr>\n",
       "    <tr>\n",
       "      <th>276</th>\n",
       "      <td>MALUKU UTARA</td>\n",
       "      <td>2015</td>\n",
       "      <td>275361</td>\n",
       "      <td>68726</td>\n",
       "      <td>79.90</td>\n",
       "      <td>6.84</td>\n",
       "      <td>0.280</td>\n",
       "    </tr>\n",
       "    <tr>\n",
       "      <th>277</th>\n",
       "      <td>PAPUA BARAT</td>\n",
       "      <td>2015</td>\n",
       "      <td>346975</td>\n",
       "      <td>94594</td>\n",
       "      <td>225.36</td>\n",
       "      <td>25.82</td>\n",
       "      <td>0.440</td>\n",
       "    </tr>\n",
       "    <tr>\n",
       "      <th>278</th>\n",
       "      <td>PAPUA</td>\n",
       "      <td>2015</td>\n",
       "      <td>302807</td>\n",
       "      <td>99224</td>\n",
       "      <td>859.15</td>\n",
       "      <td>28.17</td>\n",
       "      <td>0.421</td>\n",
       "    </tr>\n",
       "    <tr>\n",
       "      <th>279</th>\n",
       "      <td>INDONESIA</td>\n",
       "      <td>2015</td>\n",
       "      <td>242241</td>\n",
       "      <td>88535</td>\n",
       "      <td>28592.79</td>\n",
       "      <td>11.22</td>\n",
       "      <td>0.408</td>\n",
       "    </tr>\n",
       "  </tbody>\n",
       "</table>\n",
       "<p>280 rows × 7 columns</p>\n",
       "</div>"
      ],
      "text/plain": [
       "            Wilayah  Tahun  Garis Kemiskinan Makanan (Rupiah/Kapita/Bulan)  \\\n",
       "0              ACEH   2022                                          438658   \n",
       "1    SUMATERA UTARA   2022                                          423760   \n",
       "2    SUMATERA BARAT   2022                                          462910   \n",
       "3              RIAU   2022                                          441535   \n",
       "4             JAMBI   2022                                          411537   \n",
       "..              ...    ...                                             ...   \n",
       "275          MALUKU   2015                                          306768   \n",
       "276    MALUKU UTARA   2015                                          275361   \n",
       "277     PAPUA BARAT   2015                                          346975   \n",
       "278           PAPUA   2015                                          302807   \n",
       "279       INDONESIA   2015                                          242241   \n",
       "\n",
       "     Garis Kemiskinan Non Makanan (Rupiah/Kapita/Bulan)  \\\n",
       "0                                               140570    \n",
       "1                                               137244    \n",
       "2                                               148030    \n",
       "3                                               164377    \n",
       "4                                               134333    \n",
       "..                                                 ...    \n",
       "275                                              92864    \n",
       "276                                              68726    \n",
       "277                                              94594    \n",
       "278                                              99224    \n",
       "279                                              88535    \n",
       "\n",
       "     Jumlah Penduduk Miskin (Ribu Jiwa)  Persentase Masyarakat Miskin  \\\n",
       "0                                806.82                         14.64   \n",
       "1                               1268.19                          8.42   \n",
       "2                                335.21                          5.92   \n",
       "3                                485.03                          6.78   \n",
       "4                                279.37                          7.62   \n",
       "..                                  ...                           ...   \n",
       "275                              328.41                         19.51   \n",
       "276                               79.90                          6.84   \n",
       "277                              225.36                         25.82   \n",
       "278                              859.15                         28.17   \n",
       "279                            28592.79                         11.22   \n",
       "\n",
       "     Gini Rasio  \n",
       "0         0.311  \n",
       "1         0.312  \n",
       "2         0.300  \n",
       "3         0.326  \n",
       "4         0.320  \n",
       "..          ...  \n",
       "275       0.340  \n",
       "276       0.280  \n",
       "277       0.440  \n",
       "278       0.421  \n",
       "279       0.408  \n",
       "\n",
       "[280 rows x 7 columns]"
      ]
     },
     "execution_count": 1098,
     "metadata": {},
     "output_type": "execute_result"
    }
   ],
   "source": [
    "valid=df.dropna()\n",
    "valid"
   ]
  },
  {
   "cell_type": "code",
   "execution_count": 1099,
   "metadata": {},
   "outputs": [
    {
     "name": "stdout",
     "output_type": "stream",
     "text": [
      "<class 'pandas.core.frame.DataFrame'>\n",
      "RangeIndex: 280 entries, 0 to 279\n",
      "Data columns (total 7 columns):\n",
      " #   Column                                              Non-Null Count  Dtype  \n",
      "---  ------                                              --------------  -----  \n",
      " 0   Wilayah                                             280 non-null    object \n",
      " 1   Tahun                                               280 non-null    int64  \n",
      " 2   Garis Kemiskinan Makanan (Rupiah/Kapita/Bulan)      280 non-null    int64  \n",
      " 3   Garis Kemiskinan Non Makanan (Rupiah/Kapita/Bulan)  280 non-null    int64  \n",
      " 4   Jumlah Penduduk Miskin (Ribu Jiwa)                  280 non-null    float64\n",
      " 5   Persentase Masyarakat Miskin                        280 non-null    float64\n",
      " 6   Gini Rasio                                          280 non-null    float64\n",
      "dtypes: float64(3), int64(3), object(1)\n",
      "memory usage: 15.4+ KB\n"
     ]
    }
   ],
   "source": [
    "valid.info()"
   ]
  },
  {
   "cell_type": "markdown",
   "metadata": {
    "id": "PRaceWXkviEw"
   },
   "source": [
    "# C. Konstruksi Data\n",
    "> Setelah dilakukan pembersihan data di rumuskan kembali tabel data yang sudah sesuai dengan kebutuhan data. Dimana kebutuhan data tersebut berisi variabel terikat, dan variabel bebas. "
   ]
  },
  {
   "cell_type": "code",
   "execution_count": 1100,
   "metadata": {},
   "outputs": [
    {
     "data": {
      "text/html": [
       "<div>\n",
       "<style scoped>\n",
       "    .dataframe tbody tr th:only-of-type {\n",
       "        vertical-align: middle;\n",
       "    }\n",
       "\n",
       "    .dataframe tbody tr th {\n",
       "        vertical-align: top;\n",
       "    }\n",
       "\n",
       "    .dataframe thead th {\n",
       "        text-align: right;\n",
       "    }\n",
       "</style>\n",
       "<table border=\"1\" class=\"dataframe\">\n",
       "  <thead>\n",
       "    <tr style=\"text-align: right;\">\n",
       "      <th></th>\n",
       "      <th>Wilayah</th>\n",
       "      <th>Tahun</th>\n",
       "      <th>Garis Kemiskinan Makanan (Rupiah/Kapita/Bulan)</th>\n",
       "      <th>Garis Kemiskinan Non Makanan (Rupiah/Kapita/Bulan)</th>\n",
       "      <th>Jumlah Penduduk Miskin (Ribu Jiwa)</th>\n",
       "      <th>Persentase Masyarakat Miskin</th>\n",
       "      <th>Gini Rasio</th>\n",
       "    </tr>\n",
       "  </thead>\n",
       "  <tbody>\n",
       "    <tr>\n",
       "      <th>0</th>\n",
       "      <td>ACEH</td>\n",
       "      <td>2022</td>\n",
       "      <td>438658</td>\n",
       "      <td>140570</td>\n",
       "      <td>806.82</td>\n",
       "      <td>14.64</td>\n",
       "      <td>0.311</td>\n",
       "    </tr>\n",
       "    <tr>\n",
       "      <th>1</th>\n",
       "      <td>SUMATERA UTARA</td>\n",
       "      <td>2022</td>\n",
       "      <td>423760</td>\n",
       "      <td>137244</td>\n",
       "      <td>1268.19</td>\n",
       "      <td>8.42</td>\n",
       "      <td>0.312</td>\n",
       "    </tr>\n",
       "    <tr>\n",
       "      <th>2</th>\n",
       "      <td>SUMATERA BARAT</td>\n",
       "      <td>2022</td>\n",
       "      <td>462910</td>\n",
       "      <td>148030</td>\n",
       "      <td>335.21</td>\n",
       "      <td>5.92</td>\n",
       "      <td>0.300</td>\n",
       "    </tr>\n",
       "    <tr>\n",
       "      <th>3</th>\n",
       "      <td>RIAU</td>\n",
       "      <td>2022</td>\n",
       "      <td>441535</td>\n",
       "      <td>164377</td>\n",
       "      <td>485.03</td>\n",
       "      <td>6.78</td>\n",
       "      <td>0.326</td>\n",
       "    </tr>\n",
       "    <tr>\n",
       "      <th>4</th>\n",
       "      <td>JAMBI</td>\n",
       "      <td>2022</td>\n",
       "      <td>411537</td>\n",
       "      <td>134333</td>\n",
       "      <td>279.37</td>\n",
       "      <td>7.62</td>\n",
       "      <td>0.320</td>\n",
       "    </tr>\n",
       "    <tr>\n",
       "      <th>...</th>\n",
       "      <td>...</td>\n",
       "      <td>...</td>\n",
       "      <td>...</td>\n",
       "      <td>...</td>\n",
       "      <td>...</td>\n",
       "      <td>...</td>\n",
       "      <td>...</td>\n",
       "    </tr>\n",
       "    <tr>\n",
       "      <th>274</th>\n",
       "      <td>SULAWESI BARAT</td>\n",
       "      <td>2015</td>\n",
       "      <td>208787</td>\n",
       "      <td>53095</td>\n",
       "      <td>160.48</td>\n",
       "      <td>12.40</td>\n",
       "      <td>0.363</td>\n",
       "    </tr>\n",
       "    <tr>\n",
       "      <th>275</th>\n",
       "      <td>MALUKU</td>\n",
       "      <td>2015</td>\n",
       "      <td>306768</td>\n",
       "      <td>92864</td>\n",
       "      <td>328.41</td>\n",
       "      <td>19.51</td>\n",
       "      <td>0.340</td>\n",
       "    </tr>\n",
       "    <tr>\n",
       "      <th>276</th>\n",
       "      <td>MALUKU UTARA</td>\n",
       "      <td>2015</td>\n",
       "      <td>275361</td>\n",
       "      <td>68726</td>\n",
       "      <td>79.90</td>\n",
       "      <td>6.84</td>\n",
       "      <td>0.280</td>\n",
       "    </tr>\n",
       "    <tr>\n",
       "      <th>277</th>\n",
       "      <td>PAPUA BARAT</td>\n",
       "      <td>2015</td>\n",
       "      <td>346975</td>\n",
       "      <td>94594</td>\n",
       "      <td>225.36</td>\n",
       "      <td>25.82</td>\n",
       "      <td>0.440</td>\n",
       "    </tr>\n",
       "    <tr>\n",
       "      <th>278</th>\n",
       "      <td>PAPUA</td>\n",
       "      <td>2015</td>\n",
       "      <td>302807</td>\n",
       "      <td>99224</td>\n",
       "      <td>859.15</td>\n",
       "      <td>28.17</td>\n",
       "      <td>0.421</td>\n",
       "    </tr>\n",
       "  </tbody>\n",
       "</table>\n",
       "<p>272 rows × 7 columns</p>\n",
       "</div>"
      ],
      "text/plain": [
       "            Wilayah  Tahun  Garis Kemiskinan Makanan (Rupiah/Kapita/Bulan)  \\\n",
       "0              ACEH   2022                                          438658   \n",
       "1    SUMATERA UTARA   2022                                          423760   \n",
       "2    SUMATERA BARAT   2022                                          462910   \n",
       "3              RIAU   2022                                          441535   \n",
       "4             JAMBI   2022                                          411537   \n",
       "..              ...    ...                                             ...   \n",
       "274  SULAWESI BARAT   2015                                          208787   \n",
       "275          MALUKU   2015                                          306768   \n",
       "276    MALUKU UTARA   2015                                          275361   \n",
       "277     PAPUA BARAT   2015                                          346975   \n",
       "278           PAPUA   2015                                          302807   \n",
       "\n",
       "     Garis Kemiskinan Non Makanan (Rupiah/Kapita/Bulan)  \\\n",
       "0                                               140570    \n",
       "1                                               137244    \n",
       "2                                               148030    \n",
       "3                                               164377    \n",
       "4                                               134333    \n",
       "..                                                 ...    \n",
       "274                                              53095    \n",
       "275                                              92864    \n",
       "276                                              68726    \n",
       "277                                              94594    \n",
       "278                                              99224    \n",
       "\n",
       "     Jumlah Penduduk Miskin (Ribu Jiwa)  Persentase Masyarakat Miskin  \\\n",
       "0                                806.82                         14.64   \n",
       "1                               1268.19                          8.42   \n",
       "2                                335.21                          5.92   \n",
       "3                                485.03                          6.78   \n",
       "4                                279.37                          7.62   \n",
       "..                                  ...                           ...   \n",
       "274                              160.48                         12.40   \n",
       "275                              328.41                         19.51   \n",
       "276                               79.90                          6.84   \n",
       "277                              225.36                         25.82   \n",
       "278                              859.15                         28.17   \n",
       "\n",
       "     Gini Rasio  \n",
       "0         0.311  \n",
       "1         0.312  \n",
       "2         0.300  \n",
       "3         0.326  \n",
       "4         0.320  \n",
       "..          ...  \n",
       "274       0.363  \n",
       "275       0.340  \n",
       "276       0.280  \n",
       "277       0.440  \n",
       "278       0.421  \n",
       "\n",
       "[272 rows x 7 columns]"
      ]
     },
     "execution_count": 1100,
     "metadata": {},
     "output_type": "execute_result"
    }
   ],
   "source": [
    "provinsi=valid[valid[\"Wilayah\"]!=\"INDONESIA\"]\n",
    "provinsi"
   ]
  },
  {
   "cell_type": "code",
   "execution_count": 1101,
   "metadata": {},
   "outputs": [
    {
     "data": {
      "text/html": [
       "<div>\n",
       "<style scoped>\n",
       "    .dataframe tbody tr th:only-of-type {\n",
       "        vertical-align: middle;\n",
       "    }\n",
       "\n",
       "    .dataframe tbody tr th {\n",
       "        vertical-align: top;\n",
       "    }\n",
       "\n",
       "    .dataframe thead th {\n",
       "        text-align: right;\n",
       "    }\n",
       "</style>\n",
       "<table border=\"1\" class=\"dataframe\">\n",
       "  <thead>\n",
       "    <tr style=\"text-align: right;\">\n",
       "      <th></th>\n",
       "      <th>Wilayah</th>\n",
       "      <th>Tahun</th>\n",
       "      <th>Garis Kemiskinan Makanan (Rupiah/Kapita/Bulan)</th>\n",
       "      <th>Garis Kemiskinan Non Makanan (Rupiah/Kapita/Bulan)</th>\n",
       "      <th>Jumlah Penduduk Miskin (Ribu Jiwa)</th>\n",
       "      <th>Persentase Masyarakat Miskin</th>\n",
       "      <th>Gini Rasio</th>\n",
       "    </tr>\n",
       "  </thead>\n",
       "  <tbody>\n",
       "    <tr>\n",
       "      <th>34</th>\n",
       "      <td>INDONESIA</td>\n",
       "      <td>2022</td>\n",
       "      <td>374454</td>\n",
       "      <td>131014</td>\n",
       "      <td>26161.16</td>\n",
       "      <td>9.54</td>\n",
       "      <td>0.38400</td>\n",
       "    </tr>\n",
       "    <tr>\n",
       "      <th>69</th>\n",
       "      <td>INDONESIA</td>\n",
       "      <td>2021</td>\n",
       "      <td>349474</td>\n",
       "      <td>123051</td>\n",
       "      <td>27542.77</td>\n",
       "      <td>10.14</td>\n",
       "      <td>0.38400</td>\n",
       "    </tr>\n",
       "    <tr>\n",
       "      <th>104</th>\n",
       "      <td>INDONESIA</td>\n",
       "      <td>2020</td>\n",
       "      <td>335793</td>\n",
       "      <td>118859</td>\n",
       "      <td>26424.02</td>\n",
       "      <td>9.78</td>\n",
       "      <td>0.38100</td>\n",
       "    </tr>\n",
       "    <tr>\n",
       "      <th>139</th>\n",
       "      <td>INDONESIA</td>\n",
       "      <td>2019</td>\n",
       "      <td>313232</td>\n",
       "      <td>112018</td>\n",
       "      <td>25144.72</td>\n",
       "      <td>9.41</td>\n",
       "      <td>0.38000</td>\n",
       "    </tr>\n",
       "    <tr>\n",
       "      <th>174</th>\n",
       "      <td>INDONESIA</td>\n",
       "      <td>2018</td>\n",
       "      <td>294806</td>\n",
       "      <td>106414</td>\n",
       "      <td>25949.80</td>\n",
       "      <td>9.82</td>\n",
       "      <td>0.38900</td>\n",
       "    </tr>\n",
       "    <tr>\n",
       "      <th>209</th>\n",
       "      <td>INDONESIA</td>\n",
       "      <td>2017</td>\n",
       "      <td>274544</td>\n",
       "      <td>99933</td>\n",
       "      <td>27771.22</td>\n",
       "      <td>10.64</td>\n",
       "      <td>0.39261</td>\n",
       "    </tr>\n",
       "    <tr>\n",
       "      <th>244</th>\n",
       "      <td>INDONESIA</td>\n",
       "      <td>2016</td>\n",
       "      <td>260469</td>\n",
       "      <td>93917</td>\n",
       "      <td>28005.39</td>\n",
       "      <td>10.86</td>\n",
       "      <td>0.39700</td>\n",
       "    </tr>\n",
       "    <tr>\n",
       "      <th>279</th>\n",
       "      <td>INDONESIA</td>\n",
       "      <td>2015</td>\n",
       "      <td>242241</td>\n",
       "      <td>88535</td>\n",
       "      <td>28592.79</td>\n",
       "      <td>11.22</td>\n",
       "      <td>0.40800</td>\n",
       "    </tr>\n",
       "  </tbody>\n",
       "</table>\n",
       "</div>"
      ],
      "text/plain": [
       "       Wilayah  Tahun  Garis Kemiskinan Makanan (Rupiah/Kapita/Bulan)  \\\n",
       "34   INDONESIA   2022                                          374454   \n",
       "69   INDONESIA   2021                                          349474   \n",
       "104  INDONESIA   2020                                          335793   \n",
       "139  INDONESIA   2019                                          313232   \n",
       "174  INDONESIA   2018                                          294806   \n",
       "209  INDONESIA   2017                                          274544   \n",
       "244  INDONESIA   2016                                          260469   \n",
       "279  INDONESIA   2015                                          242241   \n",
       "\n",
       "     Garis Kemiskinan Non Makanan (Rupiah/Kapita/Bulan)  \\\n",
       "34                                              131014    \n",
       "69                                              123051    \n",
       "104                                             118859    \n",
       "139                                             112018    \n",
       "174                                             106414    \n",
       "209                                              99933    \n",
       "244                                              93917    \n",
       "279                                              88535    \n",
       "\n",
       "     Jumlah Penduduk Miskin (Ribu Jiwa)  Persentase Masyarakat Miskin  \\\n",
       "34                             26161.16                          9.54   \n",
       "69                             27542.77                         10.14   \n",
       "104                            26424.02                          9.78   \n",
       "139                            25144.72                          9.41   \n",
       "174                            25949.80                          9.82   \n",
       "209                            27771.22                         10.64   \n",
       "244                            28005.39                         10.86   \n",
       "279                            28592.79                         11.22   \n",
       "\n",
       "     Gini Rasio  \n",
       "34      0.38400  \n",
       "69      0.38400  \n",
       "104     0.38100  \n",
       "139     0.38000  \n",
       "174     0.38900  \n",
       "209     0.39261  \n",
       "244     0.39700  \n",
       "279     0.40800  "
      ]
     },
     "execution_count": 1101,
     "metadata": {},
     "output_type": "execute_result"
    }
   ],
   "source": [
    "indo=valid[valid[\"Wilayah\"]==\"INDONESIA\"]\n",
    "indo"
   ]
  },
  {
   "cell_type": "code",
   "execution_count": 1102,
   "metadata": {},
   "outputs": [
    {
     "data": {
      "text/html": [
       "<div>\n",
       "<style scoped>\n",
       "    .dataframe tbody tr th:only-of-type {\n",
       "        vertical-align: middle;\n",
       "    }\n",
       "\n",
       "    .dataframe tbody tr th {\n",
       "        vertical-align: top;\n",
       "    }\n",
       "\n",
       "    .dataframe thead th {\n",
       "        text-align: right;\n",
       "    }\n",
       "</style>\n",
       "<table border=\"1\" class=\"dataframe\">\n",
       "  <thead>\n",
       "    <tr style=\"text-align: right;\">\n",
       "      <th></th>\n",
       "      <th>Tahun</th>\n",
       "      <th>Garis Kemiskinan Makanan (Rupiah/Kapita/Bulan)</th>\n",
       "      <th>Garis Kemiskinan Non Makanan (Rupiah/Kapita/Bulan)</th>\n",
       "      <th>Jumlah Penduduk Miskin (Ribu Jiwa)</th>\n",
       "      <th>Persentase Masyarakat Miskin</th>\n",
       "      <th>Gini Rasio</th>\n",
       "    </tr>\n",
       "  </thead>\n",
       "  <tbody>\n",
       "    <tr>\n",
       "      <th>34</th>\n",
       "      <td>2022</td>\n",
       "      <td>374454</td>\n",
       "      <td>131014</td>\n",
       "      <td>26161.16</td>\n",
       "      <td>9.54</td>\n",
       "      <td>0.38400</td>\n",
       "    </tr>\n",
       "    <tr>\n",
       "      <th>69</th>\n",
       "      <td>2021</td>\n",
       "      <td>349474</td>\n",
       "      <td>123051</td>\n",
       "      <td>27542.77</td>\n",
       "      <td>10.14</td>\n",
       "      <td>0.38400</td>\n",
       "    </tr>\n",
       "    <tr>\n",
       "      <th>104</th>\n",
       "      <td>2020</td>\n",
       "      <td>335793</td>\n",
       "      <td>118859</td>\n",
       "      <td>26424.02</td>\n",
       "      <td>9.78</td>\n",
       "      <td>0.38100</td>\n",
       "    </tr>\n",
       "    <tr>\n",
       "      <th>139</th>\n",
       "      <td>2019</td>\n",
       "      <td>313232</td>\n",
       "      <td>112018</td>\n",
       "      <td>25144.72</td>\n",
       "      <td>9.41</td>\n",
       "      <td>0.38000</td>\n",
       "    </tr>\n",
       "    <tr>\n",
       "      <th>174</th>\n",
       "      <td>2018</td>\n",
       "      <td>294806</td>\n",
       "      <td>106414</td>\n",
       "      <td>25949.80</td>\n",
       "      <td>9.82</td>\n",
       "      <td>0.38900</td>\n",
       "    </tr>\n",
       "    <tr>\n",
       "      <th>209</th>\n",
       "      <td>2017</td>\n",
       "      <td>274544</td>\n",
       "      <td>99933</td>\n",
       "      <td>27771.22</td>\n",
       "      <td>10.64</td>\n",
       "      <td>0.39261</td>\n",
       "    </tr>\n",
       "    <tr>\n",
       "      <th>244</th>\n",
       "      <td>2016</td>\n",
       "      <td>260469</td>\n",
       "      <td>93917</td>\n",
       "      <td>28005.39</td>\n",
       "      <td>10.86</td>\n",
       "      <td>0.39700</td>\n",
       "    </tr>\n",
       "    <tr>\n",
       "      <th>279</th>\n",
       "      <td>2015</td>\n",
       "      <td>242241</td>\n",
       "      <td>88535</td>\n",
       "      <td>28592.79</td>\n",
       "      <td>11.22</td>\n",
       "      <td>0.40800</td>\n",
       "    </tr>\n",
       "  </tbody>\n",
       "</table>\n",
       "</div>"
      ],
      "text/plain": [
       "     Tahun  Garis Kemiskinan Makanan (Rupiah/Kapita/Bulan)  \\\n",
       "34    2022                                          374454   \n",
       "69    2021                                          349474   \n",
       "104   2020                                          335793   \n",
       "139   2019                                          313232   \n",
       "174   2018                                          294806   \n",
       "209   2017                                          274544   \n",
       "244   2016                                          260469   \n",
       "279   2015                                          242241   \n",
       "\n",
       "     Garis Kemiskinan Non Makanan (Rupiah/Kapita/Bulan)  \\\n",
       "34                                              131014    \n",
       "69                                              123051    \n",
       "104                                             118859    \n",
       "139                                             112018    \n",
       "174                                             106414    \n",
       "209                                              99933    \n",
       "244                                              93917    \n",
       "279                                              88535    \n",
       "\n",
       "     Jumlah Penduduk Miskin (Ribu Jiwa)  Persentase Masyarakat Miskin  \\\n",
       "34                             26161.16                          9.54   \n",
       "69                             27542.77                         10.14   \n",
       "104                            26424.02                          9.78   \n",
       "139                            25144.72                          9.41   \n",
       "174                            25949.80                          9.82   \n",
       "209                            27771.22                         10.64   \n",
       "244                            28005.39                         10.86   \n",
       "279                            28592.79                         11.22   \n",
       "\n",
       "     Gini Rasio  \n",
       "34      0.38400  \n",
       "69      0.38400  \n",
       "104     0.38100  \n",
       "139     0.38000  \n",
       "174     0.38900  \n",
       "209     0.39261  \n",
       "244     0.39700  \n",
       "279     0.40800  "
      ]
     },
     "execution_count": 1102,
     "metadata": {},
     "output_type": "execute_result"
    }
   ],
   "source": [
    "indo=indo.drop(columns=['Wilayah'])\n",
    "indo"
   ]
  },
  {
   "cell_type": "markdown",
   "metadata": {
    "id": "9pyUtkfkvn5z"
   },
   "source": [
    "# D. Pelabelan Data\n",
    "> Setelah dilakukan konstruksi data, data di sesuaikan dengan kebutuhan dan label sebagai indikator variabel penelitian. Untuk mempermudah dalam pemanggilan data dan kemudahan dalam mengetahui data, maka label digunakan dengan kata yang lebih sederhana."
   ]
  },
  {
   "cell_type": "code",
   "execution_count": 1103,
   "metadata": {},
   "outputs": [
    {
     "data": {
      "text/html": [
       "<div>\n",
       "<style scoped>\n",
       "    .dataframe tbody tr th:only-of-type {\n",
       "        vertical-align: middle;\n",
       "    }\n",
       "\n",
       "    .dataframe tbody tr th {\n",
       "        vertical-align: top;\n",
       "    }\n",
       "\n",
       "    .dataframe thead th {\n",
       "        text-align: right;\n",
       "    }\n",
       "</style>\n",
       "<table border=\"1\" class=\"dataframe\">\n",
       "  <thead>\n",
       "    <tr style=\"text-align: right;\">\n",
       "      <th></th>\n",
       "      <th>Tahun</th>\n",
       "      <th>GK Makanan</th>\n",
       "      <th>GK Non Makanan</th>\n",
       "      <th>Jumlah</th>\n",
       "      <th>Persentase</th>\n",
       "      <th>Gini Rasio</th>\n",
       "    </tr>\n",
       "  </thead>\n",
       "  <tbody>\n",
       "    <tr>\n",
       "      <th>34</th>\n",
       "      <td>2022</td>\n",
       "      <td>374454</td>\n",
       "      <td>131014</td>\n",
       "      <td>26161.16</td>\n",
       "      <td>9.54</td>\n",
       "      <td>0.38400</td>\n",
       "    </tr>\n",
       "    <tr>\n",
       "      <th>69</th>\n",
       "      <td>2021</td>\n",
       "      <td>349474</td>\n",
       "      <td>123051</td>\n",
       "      <td>27542.77</td>\n",
       "      <td>10.14</td>\n",
       "      <td>0.38400</td>\n",
       "    </tr>\n",
       "    <tr>\n",
       "      <th>104</th>\n",
       "      <td>2020</td>\n",
       "      <td>335793</td>\n",
       "      <td>118859</td>\n",
       "      <td>26424.02</td>\n",
       "      <td>9.78</td>\n",
       "      <td>0.38100</td>\n",
       "    </tr>\n",
       "    <tr>\n",
       "      <th>139</th>\n",
       "      <td>2019</td>\n",
       "      <td>313232</td>\n",
       "      <td>112018</td>\n",
       "      <td>25144.72</td>\n",
       "      <td>9.41</td>\n",
       "      <td>0.38000</td>\n",
       "    </tr>\n",
       "    <tr>\n",
       "      <th>174</th>\n",
       "      <td>2018</td>\n",
       "      <td>294806</td>\n",
       "      <td>106414</td>\n",
       "      <td>25949.80</td>\n",
       "      <td>9.82</td>\n",
       "      <td>0.38900</td>\n",
       "    </tr>\n",
       "    <tr>\n",
       "      <th>209</th>\n",
       "      <td>2017</td>\n",
       "      <td>274544</td>\n",
       "      <td>99933</td>\n",
       "      <td>27771.22</td>\n",
       "      <td>10.64</td>\n",
       "      <td>0.39261</td>\n",
       "    </tr>\n",
       "    <tr>\n",
       "      <th>244</th>\n",
       "      <td>2016</td>\n",
       "      <td>260469</td>\n",
       "      <td>93917</td>\n",
       "      <td>28005.39</td>\n",
       "      <td>10.86</td>\n",
       "      <td>0.39700</td>\n",
       "    </tr>\n",
       "    <tr>\n",
       "      <th>279</th>\n",
       "      <td>2015</td>\n",
       "      <td>242241</td>\n",
       "      <td>88535</td>\n",
       "      <td>28592.79</td>\n",
       "      <td>11.22</td>\n",
       "      <td>0.40800</td>\n",
       "    </tr>\n",
       "  </tbody>\n",
       "</table>\n",
       "</div>"
      ],
      "text/plain": [
       "     Tahun  GK Makanan  GK Non Makanan    Jumlah  Persentase  Gini Rasio\n",
       "34    2022      374454          131014  26161.16        9.54     0.38400\n",
       "69    2021      349474          123051  27542.77       10.14     0.38400\n",
       "104   2020      335793          118859  26424.02        9.78     0.38100\n",
       "139   2019      313232          112018  25144.72        9.41     0.38000\n",
       "174   2018      294806          106414  25949.80        9.82     0.38900\n",
       "209   2017      274544           99933  27771.22       10.64     0.39261\n",
       "244   2016      260469           93917  28005.39       10.86     0.39700\n",
       "279   2015      242241           88535  28592.79       11.22     0.40800"
      ]
     },
     "execution_count": 1103,
     "metadata": {},
     "output_type": "execute_result"
    }
   ],
   "source": [
    "indo.columns=[\"Tahun\", \"GK Makanan\", \"GK Non Makanan\", \"Jumlah\", \"Persentase\", \"Gini Rasio\"]\n",
    "indo"
   ]
  },
  {
   "cell_type": "code",
   "execution_count": 1104,
   "metadata": {},
   "outputs": [
    {
     "name": "stdout",
     "output_type": "stream",
     "text": [
      "<class 'pandas.core.frame.DataFrame'>\n",
      "Int64Index: 8 entries, 34 to 279\n",
      "Data columns (total 6 columns):\n",
      " #   Column          Non-Null Count  Dtype  \n",
      "---  ------          --------------  -----  \n",
      " 0   Tahun           8 non-null      int64  \n",
      " 1   GK Makanan      8 non-null      int64  \n",
      " 2   GK Non Makanan  8 non-null      int64  \n",
      " 3   Jumlah          8 non-null      float64\n",
      " 4   Persentase      8 non-null      float64\n",
      " 5   Gini Rasio      8 non-null      float64\n",
      "dtypes: float64(3), int64(3)\n",
      "memory usage: 448.0 bytes\n"
     ]
    }
   ],
   "source": [
    "indo.info()"
   ]
  },
  {
   "cell_type": "code",
   "execution_count": 1105,
   "metadata": {},
   "outputs": [
    {
     "data": {
      "text/html": [
       "<div>\n",
       "<style scoped>\n",
       "    .dataframe tbody tr th:only-of-type {\n",
       "        vertical-align: middle;\n",
       "    }\n",
       "\n",
       "    .dataframe tbody tr th {\n",
       "        vertical-align: top;\n",
       "    }\n",
       "\n",
       "    .dataframe thead th {\n",
       "        text-align: right;\n",
       "    }\n",
       "</style>\n",
       "<table border=\"1\" class=\"dataframe\">\n",
       "  <thead>\n",
       "    <tr style=\"text-align: right;\">\n",
       "      <th></th>\n",
       "      <th>Wilayah</th>\n",
       "      <th>Tahun</th>\n",
       "      <th>GK Makanan</th>\n",
       "      <th>GK Non Makanan</th>\n",
       "      <th>Jumlah</th>\n",
       "      <th>Persentase</th>\n",
       "      <th>Gini Rasio</th>\n",
       "    </tr>\n",
       "  </thead>\n",
       "  <tbody>\n",
       "    <tr>\n",
       "      <th>0</th>\n",
       "      <td>ACEH</td>\n",
       "      <td>2022</td>\n",
       "      <td>438658</td>\n",
       "      <td>140570</td>\n",
       "      <td>806.82</td>\n",
       "      <td>14.64</td>\n",
       "      <td>0.311</td>\n",
       "    </tr>\n",
       "    <tr>\n",
       "      <th>1</th>\n",
       "      <td>SUMATERA UTARA</td>\n",
       "      <td>2022</td>\n",
       "      <td>423760</td>\n",
       "      <td>137244</td>\n",
       "      <td>1268.19</td>\n",
       "      <td>8.42</td>\n",
       "      <td>0.312</td>\n",
       "    </tr>\n",
       "    <tr>\n",
       "      <th>2</th>\n",
       "      <td>SUMATERA BARAT</td>\n",
       "      <td>2022</td>\n",
       "      <td>462910</td>\n",
       "      <td>148030</td>\n",
       "      <td>335.21</td>\n",
       "      <td>5.92</td>\n",
       "      <td>0.300</td>\n",
       "    </tr>\n",
       "    <tr>\n",
       "      <th>3</th>\n",
       "      <td>RIAU</td>\n",
       "      <td>2022</td>\n",
       "      <td>441535</td>\n",
       "      <td>164377</td>\n",
       "      <td>485.03</td>\n",
       "      <td>6.78</td>\n",
       "      <td>0.326</td>\n",
       "    </tr>\n",
       "    <tr>\n",
       "      <th>4</th>\n",
       "      <td>JAMBI</td>\n",
       "      <td>2022</td>\n",
       "      <td>411537</td>\n",
       "      <td>134333</td>\n",
       "      <td>279.37</td>\n",
       "      <td>7.62</td>\n",
       "      <td>0.320</td>\n",
       "    </tr>\n",
       "    <tr>\n",
       "      <th>...</th>\n",
       "      <td>...</td>\n",
       "      <td>...</td>\n",
       "      <td>...</td>\n",
       "      <td>...</td>\n",
       "      <td>...</td>\n",
       "      <td>...</td>\n",
       "      <td>...</td>\n",
       "    </tr>\n",
       "    <tr>\n",
       "      <th>274</th>\n",
       "      <td>SULAWESI BARAT</td>\n",
       "      <td>2015</td>\n",
       "      <td>208787</td>\n",
       "      <td>53095</td>\n",
       "      <td>160.48</td>\n",
       "      <td>12.40</td>\n",
       "      <td>0.363</td>\n",
       "    </tr>\n",
       "    <tr>\n",
       "      <th>275</th>\n",
       "      <td>MALUKU</td>\n",
       "      <td>2015</td>\n",
       "      <td>306768</td>\n",
       "      <td>92864</td>\n",
       "      <td>328.41</td>\n",
       "      <td>19.51</td>\n",
       "      <td>0.340</td>\n",
       "    </tr>\n",
       "    <tr>\n",
       "      <th>276</th>\n",
       "      <td>MALUKU UTARA</td>\n",
       "      <td>2015</td>\n",
       "      <td>275361</td>\n",
       "      <td>68726</td>\n",
       "      <td>79.90</td>\n",
       "      <td>6.84</td>\n",
       "      <td>0.280</td>\n",
       "    </tr>\n",
       "    <tr>\n",
       "      <th>277</th>\n",
       "      <td>PAPUA BARAT</td>\n",
       "      <td>2015</td>\n",
       "      <td>346975</td>\n",
       "      <td>94594</td>\n",
       "      <td>225.36</td>\n",
       "      <td>25.82</td>\n",
       "      <td>0.440</td>\n",
       "    </tr>\n",
       "    <tr>\n",
       "      <th>278</th>\n",
       "      <td>PAPUA</td>\n",
       "      <td>2015</td>\n",
       "      <td>302807</td>\n",
       "      <td>99224</td>\n",
       "      <td>859.15</td>\n",
       "      <td>28.17</td>\n",
       "      <td>0.421</td>\n",
       "    </tr>\n",
       "  </tbody>\n",
       "</table>\n",
       "<p>272 rows × 7 columns</p>\n",
       "</div>"
      ],
      "text/plain": [
       "            Wilayah  Tahun  GK Makanan  GK Non Makanan   Jumlah  Persentase  \\\n",
       "0              ACEH   2022      438658          140570   806.82       14.64   \n",
       "1    SUMATERA UTARA   2022      423760          137244  1268.19        8.42   \n",
       "2    SUMATERA BARAT   2022      462910          148030   335.21        5.92   \n",
       "3              RIAU   2022      441535          164377   485.03        6.78   \n",
       "4             JAMBI   2022      411537          134333   279.37        7.62   \n",
       "..              ...    ...         ...             ...      ...         ...   \n",
       "274  SULAWESI BARAT   2015      208787           53095   160.48       12.40   \n",
       "275          MALUKU   2015      306768           92864   328.41       19.51   \n",
       "276    MALUKU UTARA   2015      275361           68726    79.90        6.84   \n",
       "277     PAPUA BARAT   2015      346975           94594   225.36       25.82   \n",
       "278           PAPUA   2015      302807           99224   859.15       28.17   \n",
       "\n",
       "     Gini Rasio  \n",
       "0         0.311  \n",
       "1         0.312  \n",
       "2         0.300  \n",
       "3         0.326  \n",
       "4         0.320  \n",
       "..          ...  \n",
       "274       0.363  \n",
       "275       0.340  \n",
       "276       0.280  \n",
       "277       0.440  \n",
       "278       0.421  \n",
       "\n",
       "[272 rows x 7 columns]"
      ]
     },
     "execution_count": 1105,
     "metadata": {},
     "output_type": "execute_result"
    }
   ],
   "source": [
    "provinsi.columns=[\"Wilayah\",\"Tahun\", \"GK Makanan\", \"GK Non Makanan\", \"Jumlah\", \"Persentase\", \"Gini Rasio\"]\n",
    "provinsi"
   ]
  },
  {
   "cell_type": "code",
   "execution_count": 1106,
   "metadata": {},
   "outputs": [
    {
     "name": "stdout",
     "output_type": "stream",
     "text": [
      "<class 'pandas.core.frame.DataFrame'>\n",
      "Int64Index: 272 entries, 0 to 278\n",
      "Data columns (total 7 columns):\n",
      " #   Column          Non-Null Count  Dtype  \n",
      "---  ------          --------------  -----  \n",
      " 0   Wilayah         272 non-null    object \n",
      " 1   Tahun           272 non-null    int64  \n",
      " 2   GK Makanan      272 non-null    int64  \n",
      " 3   GK Non Makanan  272 non-null    int64  \n",
      " 4   Jumlah          272 non-null    float64\n",
      " 5   Persentase      272 non-null    float64\n",
      " 6   Gini Rasio      272 non-null    float64\n",
      "dtypes: float64(3), int64(3), object(1)\n",
      "memory usage: 17.0+ KB\n"
     ]
    }
   ],
   "source": [
    "provinsi.info()"
   ]
  },
  {
   "cell_type": "markdown",
   "metadata": {
    "id": "z-15bkLRvqnt"
   },
   "source": [
    "# E. Integrasi Data\n",
    "> Berdasarkan data yang sudah sesuai dibuat tabel untuk merumuskan perbandingan antara variabel bebas dan variabel terikat."
   ]
  },
  {
   "cell_type": "code",
   "execution_count": 1107,
   "metadata": {},
   "outputs": [
    {
     "data": {
      "text/html": [
       "<div>\n",
       "<style scoped>\n",
       "    .dataframe tbody tr th:only-of-type {\n",
       "        vertical-align: middle;\n",
       "    }\n",
       "\n",
       "    .dataframe tbody tr th {\n",
       "        vertical-align: top;\n",
       "    }\n",
       "\n",
       "    .dataframe thead th {\n",
       "        text-align: right;\n",
       "    }\n",
       "</style>\n",
       "<table border=\"1\" class=\"dataframe\">\n",
       "  <thead>\n",
       "    <tr style=\"text-align: right;\">\n",
       "      <th></th>\n",
       "      <th>Tahun</th>\n",
       "      <th>GK Makanan</th>\n",
       "    </tr>\n",
       "  </thead>\n",
       "  <tbody>\n",
       "    <tr>\n",
       "      <th>34</th>\n",
       "      <td>2022</td>\n",
       "      <td>374454</td>\n",
       "    </tr>\n",
       "    <tr>\n",
       "      <th>69</th>\n",
       "      <td>2021</td>\n",
       "      <td>349474</td>\n",
       "    </tr>\n",
       "    <tr>\n",
       "      <th>104</th>\n",
       "      <td>2020</td>\n",
       "      <td>335793</td>\n",
       "    </tr>\n",
       "    <tr>\n",
       "      <th>139</th>\n",
       "      <td>2019</td>\n",
       "      <td>313232</td>\n",
       "    </tr>\n",
       "    <tr>\n",
       "      <th>174</th>\n",
       "      <td>2018</td>\n",
       "      <td>294806</td>\n",
       "    </tr>\n",
       "    <tr>\n",
       "      <th>209</th>\n",
       "      <td>2017</td>\n",
       "      <td>274544</td>\n",
       "    </tr>\n",
       "    <tr>\n",
       "      <th>244</th>\n",
       "      <td>2016</td>\n",
       "      <td>260469</td>\n",
       "    </tr>\n",
       "    <tr>\n",
       "      <th>279</th>\n",
       "      <td>2015</td>\n",
       "      <td>242241</td>\n",
       "    </tr>\n",
       "  </tbody>\n",
       "</table>\n",
       "</div>"
      ],
      "text/plain": [
       "     Tahun  GK Makanan\n",
       "34    2022      374454\n",
       "69    2021      349474\n",
       "104   2020      335793\n",
       "139   2019      313232\n",
       "174   2018      294806\n",
       "209   2017      274544\n",
       "244   2016      260469\n",
       "279   2015      242241"
      ]
     },
     "execution_count": 1107,
     "metadata": {},
     "output_type": "execute_result"
    }
   ],
   "source": [
    "test1=indo[[\"Tahun\",\"GK Makanan\"]]\n",
    "test1"
   ]
  },
  {
   "cell_type": "code",
   "execution_count": 1108,
   "metadata": {},
   "outputs": [
    {
     "data": {
      "text/html": [
       "<div>\n",
       "<style scoped>\n",
       "    .dataframe tbody tr th:only-of-type {\n",
       "        vertical-align: middle;\n",
       "    }\n",
       "\n",
       "    .dataframe tbody tr th {\n",
       "        vertical-align: top;\n",
       "    }\n",
       "\n",
       "    .dataframe thead th {\n",
       "        text-align: right;\n",
       "    }\n",
       "</style>\n",
       "<table border=\"1\" class=\"dataframe\">\n",
       "  <thead>\n",
       "    <tr style=\"text-align: right;\">\n",
       "      <th></th>\n",
       "      <th>Tahun</th>\n",
       "      <th>GK Non Makanan</th>\n",
       "    </tr>\n",
       "  </thead>\n",
       "  <tbody>\n",
       "    <tr>\n",
       "      <th>34</th>\n",
       "      <td>2022</td>\n",
       "      <td>131014</td>\n",
       "    </tr>\n",
       "    <tr>\n",
       "      <th>69</th>\n",
       "      <td>2021</td>\n",
       "      <td>123051</td>\n",
       "    </tr>\n",
       "    <tr>\n",
       "      <th>104</th>\n",
       "      <td>2020</td>\n",
       "      <td>118859</td>\n",
       "    </tr>\n",
       "    <tr>\n",
       "      <th>139</th>\n",
       "      <td>2019</td>\n",
       "      <td>112018</td>\n",
       "    </tr>\n",
       "    <tr>\n",
       "      <th>174</th>\n",
       "      <td>2018</td>\n",
       "      <td>106414</td>\n",
       "    </tr>\n",
       "    <tr>\n",
       "      <th>209</th>\n",
       "      <td>2017</td>\n",
       "      <td>99933</td>\n",
       "    </tr>\n",
       "    <tr>\n",
       "      <th>244</th>\n",
       "      <td>2016</td>\n",
       "      <td>93917</td>\n",
       "    </tr>\n",
       "    <tr>\n",
       "      <th>279</th>\n",
       "      <td>2015</td>\n",
       "      <td>88535</td>\n",
       "    </tr>\n",
       "  </tbody>\n",
       "</table>\n",
       "</div>"
      ],
      "text/plain": [
       "     Tahun  GK Non Makanan\n",
       "34    2022          131014\n",
       "69    2021          123051\n",
       "104   2020          118859\n",
       "139   2019          112018\n",
       "174   2018          106414\n",
       "209   2017           99933\n",
       "244   2016           93917\n",
       "279   2015           88535"
      ]
     },
     "execution_count": 1108,
     "metadata": {},
     "output_type": "execute_result"
    }
   ],
   "source": [
    "test2=indo[[\"Tahun\",\"GK Non Makanan\"]]\n",
    "test2"
   ]
  },
  {
   "cell_type": "code",
   "execution_count": 1109,
   "metadata": {},
   "outputs": [
    {
     "data": {
      "text/html": [
       "<div>\n",
       "<style scoped>\n",
       "    .dataframe tbody tr th:only-of-type {\n",
       "        vertical-align: middle;\n",
       "    }\n",
       "\n",
       "    .dataframe tbody tr th {\n",
       "        vertical-align: top;\n",
       "    }\n",
       "\n",
       "    .dataframe thead th {\n",
       "        text-align: right;\n",
       "    }\n",
       "</style>\n",
       "<table border=\"1\" class=\"dataframe\">\n",
       "  <thead>\n",
       "    <tr style=\"text-align: right;\">\n",
       "      <th></th>\n",
       "      <th>Tahun</th>\n",
       "      <th>Jumlah</th>\n",
       "    </tr>\n",
       "  </thead>\n",
       "  <tbody>\n",
       "    <tr>\n",
       "      <th>34</th>\n",
       "      <td>2022</td>\n",
       "      <td>26161.16</td>\n",
       "    </tr>\n",
       "    <tr>\n",
       "      <th>69</th>\n",
       "      <td>2021</td>\n",
       "      <td>27542.77</td>\n",
       "    </tr>\n",
       "    <tr>\n",
       "      <th>104</th>\n",
       "      <td>2020</td>\n",
       "      <td>26424.02</td>\n",
       "    </tr>\n",
       "    <tr>\n",
       "      <th>139</th>\n",
       "      <td>2019</td>\n",
       "      <td>25144.72</td>\n",
       "    </tr>\n",
       "    <tr>\n",
       "      <th>174</th>\n",
       "      <td>2018</td>\n",
       "      <td>25949.80</td>\n",
       "    </tr>\n",
       "    <tr>\n",
       "      <th>209</th>\n",
       "      <td>2017</td>\n",
       "      <td>27771.22</td>\n",
       "    </tr>\n",
       "    <tr>\n",
       "      <th>244</th>\n",
       "      <td>2016</td>\n",
       "      <td>28005.39</td>\n",
       "    </tr>\n",
       "    <tr>\n",
       "      <th>279</th>\n",
       "      <td>2015</td>\n",
       "      <td>28592.79</td>\n",
       "    </tr>\n",
       "  </tbody>\n",
       "</table>\n",
       "</div>"
      ],
      "text/plain": [
       "     Tahun    Jumlah\n",
       "34    2022  26161.16\n",
       "69    2021  27542.77\n",
       "104   2020  26424.02\n",
       "139   2019  25144.72\n",
       "174   2018  25949.80\n",
       "209   2017  27771.22\n",
       "244   2016  28005.39\n",
       "279   2015  28592.79"
      ]
     },
     "execution_count": 1109,
     "metadata": {},
     "output_type": "execute_result"
    }
   ],
   "source": [
    "test3=indo[[\"Tahun\",\"Jumlah\"]]\n",
    "test3"
   ]
  },
  {
   "cell_type": "code",
   "execution_count": 1110,
   "metadata": {},
   "outputs": [
    {
     "data": {
      "text/html": [
       "<div>\n",
       "<style scoped>\n",
       "    .dataframe tbody tr th:only-of-type {\n",
       "        vertical-align: middle;\n",
       "    }\n",
       "\n",
       "    .dataframe tbody tr th {\n",
       "        vertical-align: top;\n",
       "    }\n",
       "\n",
       "    .dataframe thead th {\n",
       "        text-align: right;\n",
       "    }\n",
       "</style>\n",
       "<table border=\"1\" class=\"dataframe\">\n",
       "  <thead>\n",
       "    <tr style=\"text-align: right;\">\n",
       "      <th></th>\n",
       "      <th>Tahun</th>\n",
       "      <th>Persentase</th>\n",
       "    </tr>\n",
       "  </thead>\n",
       "  <tbody>\n",
       "    <tr>\n",
       "      <th>34</th>\n",
       "      <td>2022</td>\n",
       "      <td>9.54</td>\n",
       "    </tr>\n",
       "    <tr>\n",
       "      <th>69</th>\n",
       "      <td>2021</td>\n",
       "      <td>10.14</td>\n",
       "    </tr>\n",
       "    <tr>\n",
       "      <th>104</th>\n",
       "      <td>2020</td>\n",
       "      <td>9.78</td>\n",
       "    </tr>\n",
       "    <tr>\n",
       "      <th>139</th>\n",
       "      <td>2019</td>\n",
       "      <td>9.41</td>\n",
       "    </tr>\n",
       "    <tr>\n",
       "      <th>174</th>\n",
       "      <td>2018</td>\n",
       "      <td>9.82</td>\n",
       "    </tr>\n",
       "    <tr>\n",
       "      <th>209</th>\n",
       "      <td>2017</td>\n",
       "      <td>10.64</td>\n",
       "    </tr>\n",
       "    <tr>\n",
       "      <th>244</th>\n",
       "      <td>2016</td>\n",
       "      <td>10.86</td>\n",
       "    </tr>\n",
       "    <tr>\n",
       "      <th>279</th>\n",
       "      <td>2015</td>\n",
       "      <td>11.22</td>\n",
       "    </tr>\n",
       "  </tbody>\n",
       "</table>\n",
       "</div>"
      ],
      "text/plain": [
       "     Tahun  Persentase\n",
       "34    2022        9.54\n",
       "69    2021       10.14\n",
       "104   2020        9.78\n",
       "139   2019        9.41\n",
       "174   2018        9.82\n",
       "209   2017       10.64\n",
       "244   2016       10.86\n",
       "279   2015       11.22"
      ]
     },
     "execution_count": 1110,
     "metadata": {},
     "output_type": "execute_result"
    }
   ],
   "source": [
    "test4=indo[[\"Tahun\",\"Persentase\"]]\n",
    "test4"
   ]
  },
  {
   "cell_type": "code",
   "execution_count": 1111,
   "metadata": {},
   "outputs": [
    {
     "data": {
      "text/html": [
       "<div>\n",
       "<style scoped>\n",
       "    .dataframe tbody tr th:only-of-type {\n",
       "        vertical-align: middle;\n",
       "    }\n",
       "\n",
       "    .dataframe tbody tr th {\n",
       "        vertical-align: top;\n",
       "    }\n",
       "\n",
       "    .dataframe thead th {\n",
       "        text-align: right;\n",
       "    }\n",
       "</style>\n",
       "<table border=\"1\" class=\"dataframe\">\n",
       "  <thead>\n",
       "    <tr style=\"text-align: right;\">\n",
       "      <th></th>\n",
       "      <th>Tahun</th>\n",
       "      <th>Gini Rasio</th>\n",
       "    </tr>\n",
       "  </thead>\n",
       "  <tbody>\n",
       "    <tr>\n",
       "      <th>34</th>\n",
       "      <td>2022</td>\n",
       "      <td>0.38400</td>\n",
       "    </tr>\n",
       "    <tr>\n",
       "      <th>69</th>\n",
       "      <td>2021</td>\n",
       "      <td>0.38400</td>\n",
       "    </tr>\n",
       "    <tr>\n",
       "      <th>104</th>\n",
       "      <td>2020</td>\n",
       "      <td>0.38100</td>\n",
       "    </tr>\n",
       "    <tr>\n",
       "      <th>139</th>\n",
       "      <td>2019</td>\n",
       "      <td>0.38000</td>\n",
       "    </tr>\n",
       "    <tr>\n",
       "      <th>174</th>\n",
       "      <td>2018</td>\n",
       "      <td>0.38900</td>\n",
       "    </tr>\n",
       "    <tr>\n",
       "      <th>209</th>\n",
       "      <td>2017</td>\n",
       "      <td>0.39261</td>\n",
       "    </tr>\n",
       "    <tr>\n",
       "      <th>244</th>\n",
       "      <td>2016</td>\n",
       "      <td>0.39700</td>\n",
       "    </tr>\n",
       "    <tr>\n",
       "      <th>279</th>\n",
       "      <td>2015</td>\n",
       "      <td>0.40800</td>\n",
       "    </tr>\n",
       "  </tbody>\n",
       "</table>\n",
       "</div>"
      ],
      "text/plain": [
       "     Tahun  Gini Rasio\n",
       "34    2022     0.38400\n",
       "69    2021     0.38400\n",
       "104   2020     0.38100\n",
       "139   2019     0.38000\n",
       "174   2018     0.38900\n",
       "209   2017     0.39261\n",
       "244   2016     0.39700\n",
       "279   2015     0.40800"
      ]
     },
     "execution_count": 1111,
     "metadata": {},
     "output_type": "execute_result"
    }
   ],
   "source": [
    "test5=indo[[\"Tahun\",\"Gini Rasio\"]]\n",
    "test5"
   ]
  },
  {
   "cell_type": "markdown",
   "metadata": {},
   "source": [
    "# BAB 4 : Modelling\n",
    "# A. Pemodelan Data Test\n",
    "> Berdasarkan data yang telah di integrasikan sebelumnya, dapat dirumuskan data kedalam 5 model data test.\n"
   ]
  },
  {
   "cell_type": "markdown",
   "metadata": {},
   "source": [
    "# Test 1"
   ]
  },
  {
   "cell_type": "code",
   "execution_count": 1112,
   "metadata": {},
   "outputs": [
    {
     "data": {
      "text/html": [
       "<div>\n",
       "<style scoped>\n",
       "    .dataframe tbody tr th:only-of-type {\n",
       "        vertical-align: middle;\n",
       "    }\n",
       "\n",
       "    .dataframe tbody tr th {\n",
       "        vertical-align: top;\n",
       "    }\n",
       "\n",
       "    .dataframe thead th {\n",
       "        text-align: right;\n",
       "    }\n",
       "</style>\n",
       "<table border=\"1\" class=\"dataframe\">\n",
       "  <thead>\n",
       "    <tr style=\"text-align: right;\">\n",
       "      <th></th>\n",
       "      <th>Tahun</th>\n",
       "      <th>GK Makanan</th>\n",
       "    </tr>\n",
       "  </thead>\n",
       "  <tbody>\n",
       "    <tr>\n",
       "      <th>count</th>\n",
       "      <td>8.00000</td>\n",
       "      <td>8.000000</td>\n",
       "    </tr>\n",
       "    <tr>\n",
       "      <th>mean</th>\n",
       "      <td>2018.50000</td>\n",
       "      <td>305626.625000</td>\n",
       "    </tr>\n",
       "    <tr>\n",
       "      <th>std</th>\n",
       "      <td>2.44949</td>\n",
       "      <td>45931.339764</td>\n",
       "    </tr>\n",
       "    <tr>\n",
       "      <th>min</th>\n",
       "      <td>2015.00000</td>\n",
       "      <td>242241.000000</td>\n",
       "    </tr>\n",
       "    <tr>\n",
       "      <th>25%</th>\n",
       "      <td>2016.75000</td>\n",
       "      <td>271025.250000</td>\n",
       "    </tr>\n",
       "    <tr>\n",
       "      <th>50%</th>\n",
       "      <td>2018.50000</td>\n",
       "      <td>304019.000000</td>\n",
       "    </tr>\n",
       "    <tr>\n",
       "      <th>75%</th>\n",
       "      <td>2020.25000</td>\n",
       "      <td>339213.250000</td>\n",
       "    </tr>\n",
       "    <tr>\n",
       "      <th>max</th>\n",
       "      <td>2022.00000</td>\n",
       "      <td>374454.000000</td>\n",
       "    </tr>\n",
       "  </tbody>\n",
       "</table>\n",
       "</div>"
      ],
      "text/plain": [
       "            Tahun     GK Makanan\n",
       "count     8.00000       8.000000\n",
       "mean   2018.50000  305626.625000\n",
       "std       2.44949   45931.339764\n",
       "min    2015.00000  242241.000000\n",
       "25%    2016.75000  271025.250000\n",
       "50%    2018.50000  304019.000000\n",
       "75%    2020.25000  339213.250000\n",
       "max    2022.00000  374454.000000"
      ]
     },
     "execution_count": 1112,
     "metadata": {},
     "output_type": "execute_result"
    }
   ],
   "source": [
    "test1.describe()"
   ]
  },
  {
   "cell_type": "code",
   "execution_count": 1113,
   "metadata": {},
   "outputs": [
    {
     "data": {
      "text/html": [
       "<div>\n",
       "<style scoped>\n",
       "    .dataframe tbody tr th:only-of-type {\n",
       "        vertical-align: middle;\n",
       "    }\n",
       "\n",
       "    .dataframe tbody tr th {\n",
       "        vertical-align: top;\n",
       "    }\n",
       "\n",
       "    .dataframe thead th {\n",
       "        text-align: right;\n",
       "    }\n",
       "</style>\n",
       "<table border=\"1\" class=\"dataframe\">\n",
       "  <thead>\n",
       "    <tr style=\"text-align: right;\">\n",
       "      <th></th>\n",
       "      <th>Tahun</th>\n",
       "      <th>GK Makanan</th>\n",
       "    </tr>\n",
       "  </thead>\n",
       "  <tbody>\n",
       "    <tr>\n",
       "      <th>Tahun</th>\n",
       "      <td>1.000000</td>\n",
       "      <td>0.998459</td>\n",
       "    </tr>\n",
       "    <tr>\n",
       "      <th>GK Makanan</th>\n",
       "      <td>0.998459</td>\n",
       "      <td>1.000000</td>\n",
       "    </tr>\n",
       "  </tbody>\n",
       "</table>\n",
       "</div>"
      ],
      "text/plain": [
       "               Tahun  GK Makanan\n",
       "Tahun       1.000000    0.998459\n",
       "GK Makanan  0.998459    1.000000"
      ]
     },
     "execution_count": 1113,
     "metadata": {},
     "output_type": "execute_result"
    }
   ],
   "source": [
    "test1.corr()"
   ]
  },
  {
   "cell_type": "code",
   "execution_count": 1114,
   "metadata": {},
   "outputs": [
    {
     "data": {
      "image/png": "[encoded data removed]",
      "text/plain": [
       "<Figure size 1080x720 with 2 Axes>"
      ]
     },
     "metadata": {
      "needs_background": "light"
     },
     "output_type": "display_data"
    }
   ],
   "source": [
    "import matplotlib.pyplot as plt\n",
    "import seaborn as sns\n",
    "\n",
    "korelasi = test1.corr()\n",
    "plt.figure(figsize=(15, 10))\n",
    "sns.heatmap(korelasi[(korelasi <= 0.5) | (korelasi >= -0.8)], cmap='viridis', vmax=1.0, vmin=-1.0, linewidths=0.1, \n",
    "            annot=True, annot_kws={\"size\": 8}, square=True).set_title('Korelasi Antar Variabel')\n",
    "plt.show()"
   ]
  },
  {
   "cell_type": "code",
   "execution_count": 1115,
   "metadata": {},
   "outputs": [
    {
     "data": {
      "text/plain": [
       "<function matplotlib.pyplot.show(close=None, block=None)>"
      ]
     },
     "execution_count": 1115,
     "metadata": {},
     "output_type": "execute_result"
    },
    {
     "data": {
      "image/png": "[encoded data removed]",
      "text/plain": [
       "<Figure size 432x288 with 1 Axes>"
      ]
     },
     "metadata": {
      "needs_background": "light"
     },
     "output_type": "display_data"
    }
   ],
   "source": [
    "test1.plot(x='Tahun',y=\"GK Makanan\", style='o')\n",
    "plt.title('Perbandingan Tahun dan GK Makanan')\n",
    "plt.xlabel('Tahun')\n",
    "plt.ylabel('Gk Makanan (Rupiah/Bulan)')\n",
    "plt.show"
   ]
  },
  {
   "cell_type": "markdown",
   "metadata": {},
   "source": [
    "# Test 2"
   ]
  },
  {
   "cell_type": "code",
   "execution_count": 1116,
   "metadata": {},
   "outputs": [
    {
     "data": {
      "text/html": [
       "<div>\n",
       "<style scoped>\n",
       "    .dataframe tbody tr th:only-of-type {\n",
       "        vertical-align: middle;\n",
       "    }\n",
       "\n",
       "    .dataframe tbody tr th {\n",
       "        vertical-align: top;\n",
       "    }\n",
       "\n",
       "    .dataframe thead th {\n",
       "        text-align: right;\n",
       "    }\n",
       "</style>\n",
       "<table border=\"1\" class=\"dataframe\">\n",
       "  <thead>\n",
       "    <tr style=\"text-align: right;\">\n",
       "      <th></th>\n",
       "      <th>Tahun</th>\n",
       "      <th>GK Non Makanan</th>\n",
       "    </tr>\n",
       "  </thead>\n",
       "  <tbody>\n",
       "    <tr>\n",
       "      <th>count</th>\n",
       "      <td>8.00000</td>\n",
       "      <td>8.000000</td>\n",
       "    </tr>\n",
       "    <tr>\n",
       "      <th>mean</th>\n",
       "      <td>2018.50000</td>\n",
       "      <td>109217.625000</td>\n",
       "    </tr>\n",
       "    <tr>\n",
       "      <th>std</th>\n",
       "      <td>2.44949</td>\n",
       "      <td>14751.208744</td>\n",
       "    </tr>\n",
       "    <tr>\n",
       "      <th>min</th>\n",
       "      <td>2015.00000</td>\n",
       "      <td>88535.000000</td>\n",
       "    </tr>\n",
       "    <tr>\n",
       "      <th>25%</th>\n",
       "      <td>2016.75000</td>\n",
       "      <td>98429.000000</td>\n",
       "    </tr>\n",
       "    <tr>\n",
       "      <th>50%</th>\n",
       "      <td>2018.50000</td>\n",
       "      <td>109216.000000</td>\n",
       "    </tr>\n",
       "    <tr>\n",
       "      <th>75%</th>\n",
       "      <td>2020.25000</td>\n",
       "      <td>119907.000000</td>\n",
       "    </tr>\n",
       "    <tr>\n",
       "      <th>max</th>\n",
       "      <td>2022.00000</td>\n",
       "      <td>131014.000000</td>\n",
       "    </tr>\n",
       "  </tbody>\n",
       "</table>\n",
       "</div>"
      ],
      "text/plain": [
       "            Tahun  GK Non Makanan\n",
       "count     8.00000        8.000000\n",
       "mean   2018.50000   109217.625000\n",
       "std       2.44949    14751.208744\n",
       "min    2015.00000    88535.000000\n",
       "25%    2016.75000    98429.000000\n",
       "50%    2018.50000   109216.000000\n",
       "75%    2020.25000   119907.000000\n",
       "max    2022.00000   131014.000000"
      ]
     },
     "execution_count": 1116,
     "metadata": {},
     "output_type": "execute_result"
    }
   ],
   "source": [
    "test2.describe()"
   ]
  },
  {
   "cell_type": "code",
   "execution_count": 1117,
   "metadata": {},
   "outputs": [
    {
     "data": {
      "text/html": [
       "<div>\n",
       "<style scoped>\n",
       "    .dataframe tbody tr th:only-of-type {\n",
       "        vertical-align: middle;\n",
       "    }\n",
       "\n",
       "    .dataframe tbody tr th {\n",
       "        vertical-align: top;\n",
       "    }\n",
       "\n",
       "    .dataframe thead th {\n",
       "        text-align: right;\n",
       "    }\n",
       "</style>\n",
       "<table border=\"1\" class=\"dataframe\">\n",
       "  <thead>\n",
       "    <tr style=\"text-align: right;\">\n",
       "      <th></th>\n",
       "      <th>Tahun</th>\n",
       "      <th>GK Non Makanan</th>\n",
       "    </tr>\n",
       "  </thead>\n",
       "  <tbody>\n",
       "    <tr>\n",
       "      <th>Tahun</th>\n",
       "      <td>1.000000</td>\n",
       "      <td>0.999098</td>\n",
       "    </tr>\n",
       "    <tr>\n",
       "      <th>GK Non Makanan</th>\n",
       "      <td>0.999098</td>\n",
       "      <td>1.000000</td>\n",
       "    </tr>\n",
       "  </tbody>\n",
       "</table>\n",
       "</div>"
      ],
      "text/plain": [
       "                   Tahun  GK Non Makanan\n",
       "Tahun           1.000000        0.999098\n",
       "GK Non Makanan  0.999098        1.000000"
      ]
     },
     "execution_count": 1117,
     "metadata": {},
     "output_type": "execute_result"
    }
   ],
   "source": [
    "test2.corr()"
   ]
  },
  {
   "cell_type": "code",
   "execution_count": 1118,
   "metadata": {},
   "outputs": [
    {
     "data": {
      "image/png": "[encoded data removed]",
      "text/plain": [
       "<Figure size 1080x720 with 2 Axes>"
      ]
     },
     "metadata": {
      "needs_background": "light"
     },
     "output_type": "display_data"
    }
   ],
   "source": [
    "korelasi = test2.corr()\n",
    "plt.figure(figsize=(15, 10))\n",
    "sns.heatmap(korelasi[(korelasi <= 0.5) | (korelasi >= -0.8)], cmap='viridis', vmax=1.0, vmin=-1.0, linewidths=0.1, \n",
    "            annot=True, annot_kws={\"size\": 8}, square=True).set_title('Korelasi Antar Variabel')\n",
    "plt.show()"
   ]
  },
  {
   "cell_type": "code",
   "execution_count": 1119,
   "metadata": {},
   "outputs": [
    {
     "data": {
      "text/plain": [
       "<function matplotlib.pyplot.show(close=None, block=None)>"
      ]
     },
     "execution_count": 1119,
     "metadata": {},
     "output_type": "execute_result"
    },
    {
     "data": {
      "image/png": "[encoded data removed]",
      "text/plain": [
       "<Figure size 432x288 with 1 Axes>"
      ]
     },
     "metadata": {
      "needs_background": "light"
     },
     "output_type": "display_data"
    }
   ],
   "source": [
    "test2.plot(x='Tahun',y=\"GK Non Makanan\", style='o')\n",
    "plt.title('Perbandingan Tahun dan GK Non Makanan')\n",
    "plt.xlabel('Tahun')\n",
    "plt.ylabel('Gk Non Makanan (Rupiah/Bulan)')\n",
    "plt.show"
   ]
  },
  {
   "cell_type": "markdown",
   "metadata": {},
   "source": [
    "# Test 3"
   ]
  },
  {
   "cell_type": "code",
   "execution_count": 1120,
   "metadata": {},
   "outputs": [
    {
     "data": {
      "text/html": [
       "<div>\n",
       "<style scoped>\n",
       "    .dataframe tbody tr th:only-of-type {\n",
       "        vertical-align: middle;\n",
       "    }\n",
       "\n",
       "    .dataframe tbody tr th {\n",
       "        vertical-align: top;\n",
       "    }\n",
       "\n",
       "    .dataframe thead th {\n",
       "        text-align: right;\n",
       "    }\n",
       "</style>\n",
       "<table border=\"1\" class=\"dataframe\">\n",
       "  <thead>\n",
       "    <tr style=\"text-align: right;\">\n",
       "      <th></th>\n",
       "      <th>Tahun</th>\n",
       "      <th>Jumlah</th>\n",
       "    </tr>\n",
       "  </thead>\n",
       "  <tbody>\n",
       "    <tr>\n",
       "      <th>count</th>\n",
       "      <td>8.00000</td>\n",
       "      <td>8.000000</td>\n",
       "    </tr>\n",
       "    <tr>\n",
       "      <th>mean</th>\n",
       "      <td>2018.50000</td>\n",
       "      <td>26948.983750</td>\n",
       "    </tr>\n",
       "    <tr>\n",
       "      <th>std</th>\n",
       "      <td>2.44949</td>\n",
       "      <td>1195.033578</td>\n",
       "    </tr>\n",
       "    <tr>\n",
       "      <th>min</th>\n",
       "      <td>2015.00000</td>\n",
       "      <td>25144.720000</td>\n",
       "    </tr>\n",
       "    <tr>\n",
       "      <th>25%</th>\n",
       "      <td>2016.75000</td>\n",
       "      <td>26108.320000</td>\n",
       "    </tr>\n",
       "    <tr>\n",
       "      <th>50%</th>\n",
       "      <td>2018.50000</td>\n",
       "      <td>26983.395000</td>\n",
       "    </tr>\n",
       "    <tr>\n",
       "      <th>75%</th>\n",
       "      <td>2020.25000</td>\n",
       "      <td>27829.762500</td>\n",
       "    </tr>\n",
       "    <tr>\n",
       "      <th>max</th>\n",
       "      <td>2022.00000</td>\n",
       "      <td>28592.790000</td>\n",
       "    </tr>\n",
       "  </tbody>\n",
       "</table>\n",
       "</div>"
      ],
      "text/plain": [
       "            Tahun        Jumlah\n",
       "count     8.00000      8.000000\n",
       "mean   2018.50000  26948.983750\n",
       "std       2.44949   1195.033578\n",
       "min    2015.00000  25144.720000\n",
       "25%    2016.75000  26108.320000\n",
       "50%    2018.50000  26983.395000\n",
       "75%    2020.25000  27829.762500\n",
       "max    2022.00000  28592.790000"
      ]
     },
     "execution_count": 1120,
     "metadata": {},
     "output_type": "execute_result"
    }
   ],
   "source": [
    "test3.describe()"
   ]
  },
  {
   "cell_type": "code",
   "execution_count": 1121,
   "metadata": {},
   "outputs": [
    {
     "data": {
      "text/html": [
       "<div>\n",
       "<style scoped>\n",
       "    .dataframe tbody tr th:only-of-type {\n",
       "        vertical-align: middle;\n",
       "    }\n",
       "\n",
       "    .dataframe tbody tr th {\n",
       "        vertical-align: top;\n",
       "    }\n",
       "\n",
       "    .dataframe thead th {\n",
       "        text-align: right;\n",
       "    }\n",
       "</style>\n",
       "<table border=\"1\" class=\"dataframe\">\n",
       "  <thead>\n",
       "    <tr style=\"text-align: right;\">\n",
       "      <th></th>\n",
       "      <th>Tahun</th>\n",
       "      <th>Jumlah</th>\n",
       "    </tr>\n",
       "  </thead>\n",
       "  <tbody>\n",
       "    <tr>\n",
       "      <th>Tahun</th>\n",
       "      <td>1.000000</td>\n",
       "      <td>-0.590057</td>\n",
       "    </tr>\n",
       "    <tr>\n",
       "      <th>Jumlah</th>\n",
       "      <td>-0.590057</td>\n",
       "      <td>1.000000</td>\n",
       "    </tr>\n",
       "  </tbody>\n",
       "</table>\n",
       "</div>"
      ],
      "text/plain": [
       "           Tahun    Jumlah\n",
       "Tahun   1.000000 -0.590057\n",
       "Jumlah -0.590057  1.000000"
      ]
     },
     "execution_count": 1121,
     "metadata": {},
     "output_type": "execute_result"
    }
   ],
   "source": [
    "test3.corr()"
   ]
  },
  {
   "cell_type": "code",
   "execution_count": 1122,
   "metadata": {},
   "outputs": [
    {
     "data": {
      "image/png": "[encoded data removed]",
      "text/plain": [
       "<Figure size 1080x720 with 2 Axes>"
      ]
     },
     "metadata": {
      "needs_background": "light"
     },
     "output_type": "display_data"
    }
   ],
   "source": [
    "korelasi = test3.corr()\n",
    "plt.figure(figsize=(15, 10))\n",
    "sns.heatmap(korelasi[(korelasi <= 0.5) | (korelasi >= -0.8)], cmap='viridis', vmax=1.0, vmin=-1.0, linewidths=0.1, \n",
    "            annot=True, annot_kws={\"size\": 8}, square=True).set_title('Korelasi Antar Variabel')\n",
    "plt.show()"
   ]
  },
  {
   "cell_type": "code",
   "execution_count": 1123,
   "metadata": {},
   "outputs": [
    {
     "data": {
      "text/plain": [
       "<function matplotlib.pyplot.show(close=None, block=None)>"
      ]
     },
     "execution_count": 1123,
     "metadata": {},
     "output_type": "execute_result"
    },
    {
     "data": {
      "image/png": "[encoded data removed]",
      "text/plain": [
       "<Figure size 432x288 with 1 Axes>"
      ]
     },
     "metadata": {
      "needs_background": "light"
     },
     "output_type": "display_data"
    }
   ],
   "source": [
    "test3.plot(x='Tahun',y=\"Jumlah\", style='o')\n",
    "plt.title('Perbandingan Tahun dan Jumlah Penduduk Miskin')\n",
    "plt.xlabel('Tahun')\n",
    "plt.ylabel('Jumlah Penduduk Miskin (Ribu Jiwa)')\n",
    "plt.show"
   ]
  },
  {
   "cell_type": "markdown",
   "metadata": {},
   "source": [
    "# Test 4"
   ]
  },
  {
   "cell_type": "code",
   "execution_count": 1124,
   "metadata": {},
   "outputs": [
    {
     "data": {
      "text/html": [
       "<div>\n",
       "<style scoped>\n",
       "    .dataframe tbody tr th:only-of-type {\n",
       "        vertical-align: middle;\n",
       "    }\n",
       "\n",
       "    .dataframe tbody tr th {\n",
       "        vertical-align: top;\n",
       "    }\n",
       "\n",
       "    .dataframe thead th {\n",
       "        text-align: right;\n",
       "    }\n",
       "</style>\n",
       "<table border=\"1\" class=\"dataframe\">\n",
       "  <thead>\n",
       "    <tr style=\"text-align: right;\">\n",
       "      <th></th>\n",
       "      <th>Tahun</th>\n",
       "      <th>Persentase</th>\n",
       "    </tr>\n",
       "  </thead>\n",
       "  <tbody>\n",
       "    <tr>\n",
       "      <th>count</th>\n",
       "      <td>8.00000</td>\n",
       "      <td>8.000000</td>\n",
       "    </tr>\n",
       "    <tr>\n",
       "      <th>mean</th>\n",
       "      <td>2018.50000</td>\n",
       "      <td>10.176250</td>\n",
       "    </tr>\n",
       "    <tr>\n",
       "      <th>std</th>\n",
       "      <td>2.44949</td>\n",
       "      <td>0.659999</td>\n",
       "    </tr>\n",
       "    <tr>\n",
       "      <th>min</th>\n",
       "      <td>2015.00000</td>\n",
       "      <td>9.410000</td>\n",
       "    </tr>\n",
       "    <tr>\n",
       "      <th>25%</th>\n",
       "      <td>2016.75000</td>\n",
       "      <td>9.720000</td>\n",
       "    </tr>\n",
       "    <tr>\n",
       "      <th>50%</th>\n",
       "      <td>2018.50000</td>\n",
       "      <td>9.980000</td>\n",
       "    </tr>\n",
       "    <tr>\n",
       "      <th>75%</th>\n",
       "      <td>2020.25000</td>\n",
       "      <td>10.695000</td>\n",
       "    </tr>\n",
       "    <tr>\n",
       "      <th>max</th>\n",
       "      <td>2022.00000</td>\n",
       "      <td>11.220000</td>\n",
       "    </tr>\n",
       "  </tbody>\n",
       "</table>\n",
       "</div>"
      ],
      "text/plain": [
       "            Tahun  Persentase\n",
       "count     8.00000    8.000000\n",
       "mean   2018.50000   10.176250\n",
       "std       2.44949    0.659999\n",
       "min    2015.00000    9.410000\n",
       "25%    2016.75000    9.720000\n",
       "50%    2018.50000    9.980000\n",
       "75%    2020.25000   10.695000\n",
       "max    2022.00000   11.220000"
      ]
     },
     "execution_count": 1124,
     "metadata": {},
     "output_type": "execute_result"
    }
   ],
   "source": [
    "test4.describe()"
   ]
  },
  {
   "cell_type": "code",
   "execution_count": 1125,
   "metadata": {},
   "outputs": [
    {
     "data": {
      "text/html": [
       "<div>\n",
       "<style scoped>\n",
       "    .dataframe tbody tr th:only-of-type {\n",
       "        vertical-align: middle;\n",
       "    }\n",
       "\n",
       "    .dataframe tbody tr th {\n",
       "        vertical-align: top;\n",
       "    }\n",
       "\n",
       "    .dataframe thead th {\n",
       "        text-align: right;\n",
       "    }\n",
       "</style>\n",
       "<table border=\"1\" class=\"dataframe\">\n",
       "  <thead>\n",
       "    <tr style=\"text-align: right;\">\n",
       "      <th></th>\n",
       "      <th>Tahun</th>\n",
       "      <th>Persentase</th>\n",
       "    </tr>\n",
       "  </thead>\n",
       "  <tbody>\n",
       "    <tr>\n",
       "      <th>Tahun</th>\n",
       "      <td>1.000000</td>\n",
       "      <td>-0.810754</td>\n",
       "    </tr>\n",
       "    <tr>\n",
       "      <th>Persentase</th>\n",
       "      <td>-0.810754</td>\n",
       "      <td>1.000000</td>\n",
       "    </tr>\n",
       "  </tbody>\n",
       "</table>\n",
       "</div>"
      ],
      "text/plain": [
       "               Tahun  Persentase\n",
       "Tahun       1.000000   -0.810754\n",
       "Persentase -0.810754    1.000000"
      ]
     },
     "execution_count": 1125,
     "metadata": {},
     "output_type": "execute_result"
    }
   ],
   "source": [
    "test4.corr()"
   ]
  },
  {
   "cell_type": "code",
   "execution_count": 1126,
   "metadata": {},
   "outputs": [
    {
     "data": {
      "image/png": "[encoded data removed]",
      "text/plain": [
       "<Figure size 1080x720 with 2 Axes>"
      ]
     },
     "metadata": {
      "needs_background": "light"
     },
     "output_type": "display_data"
    }
   ],
   "source": [
    "korelasi = test4.corr()\n",
    "plt.figure(figsize=(15, 10))\n",
    "sns.heatmap(korelasi[(korelasi <= 0.5) | (korelasi >= -0.8)], cmap='viridis', vmax=1.0, vmin=-1.0, linewidths=0.1, \n",
    "            annot=True, annot_kws={\"size\": 8}, square=True).set_title('Korelasi Antar Variabel')\n",
    "plt.show()"
   ]
  },
  {
   "cell_type": "code",
   "execution_count": 1127,
   "metadata": {},
   "outputs": [
    {
     "data": {
      "text/plain": [
       "<function matplotlib.pyplot.show(close=None, block=None)>"
      ]
     },
     "execution_count": 1127,
     "metadata": {},
     "output_type": "execute_result"
    },
    {
     "data": {
      "image/png": "[encoded data removed]",
      "text/plain": [
       "<Figure size 432x288 with 1 Axes>"
      ]
     },
     "metadata": {
      "needs_background": "light"
     },
     "output_type": "display_data"
    }
   ],
   "source": [
    "test4.plot(x='Tahun',y=\"Persentase\", style='o')\n",
    "plt.title('Perbandingan Tahun dan Persentase Kemiskinan')\n",
    "plt.xlabel('Tahun')\n",
    "plt.ylabel('Gk Makanan (Rupiah/Bulan)')\n",
    "plt.show"
   ]
  },
  {
   "cell_type": "markdown",
   "metadata": {},
   "source": [
    "# Test 5"
   ]
  },
  {
   "cell_type": "code",
   "execution_count": 1128,
   "metadata": {},
   "outputs": [
    {
     "data": {
      "text/html": [
       "<div>\n",
       "<style scoped>\n",
       "    .dataframe tbody tr th:only-of-type {\n",
       "        vertical-align: middle;\n",
       "    }\n",
       "\n",
       "    .dataframe tbody tr th {\n",
       "        vertical-align: top;\n",
       "    }\n",
       "\n",
       "    .dataframe thead th {\n",
       "        text-align: right;\n",
       "    }\n",
       "</style>\n",
       "<table border=\"1\" class=\"dataframe\">\n",
       "  <thead>\n",
       "    <tr style=\"text-align: right;\">\n",
       "      <th></th>\n",
       "      <th>Tahun</th>\n",
       "      <th>Gini Rasio</th>\n",
       "    </tr>\n",
       "  </thead>\n",
       "  <tbody>\n",
       "    <tr>\n",
       "      <th>count</th>\n",
       "      <td>8.00000</td>\n",
       "      <td>8.000000</td>\n",
       "    </tr>\n",
       "    <tr>\n",
       "      <th>mean</th>\n",
       "      <td>2018.50000</td>\n",
       "      <td>0.389451</td>\n",
       "    </tr>\n",
       "    <tr>\n",
       "      <th>std</th>\n",
       "      <td>2.44949</td>\n",
       "      <td>0.009497</td>\n",
       "    </tr>\n",
       "    <tr>\n",
       "      <th>min</th>\n",
       "      <td>2015.00000</td>\n",
       "      <td>0.380000</td>\n",
       "    </tr>\n",
       "    <tr>\n",
       "      <th>25%</th>\n",
       "      <td>2016.75000</td>\n",
       "      <td>0.383250</td>\n",
       "    </tr>\n",
       "    <tr>\n",
       "      <th>50%</th>\n",
       "      <td>2018.50000</td>\n",
       "      <td>0.386500</td>\n",
       "    </tr>\n",
       "    <tr>\n",
       "      <th>75%</th>\n",
       "      <td>2020.25000</td>\n",
       "      <td>0.393707</td>\n",
       "    </tr>\n",
       "    <tr>\n",
       "      <th>max</th>\n",
       "      <td>2022.00000</td>\n",
       "      <td>0.408000</td>\n",
       "    </tr>\n",
       "  </tbody>\n",
       "</table>\n",
       "</div>"
      ],
      "text/plain": [
       "            Tahun  Gini Rasio\n",
       "count     8.00000    8.000000\n",
       "mean   2018.50000    0.389451\n",
       "std       2.44949    0.009497\n",
       "min    2015.00000    0.380000\n",
       "25%    2016.75000    0.383250\n",
       "50%    2018.50000    0.386500\n",
       "75%    2020.25000    0.393707\n",
       "max    2022.00000    0.408000"
      ]
     },
     "execution_count": 1128,
     "metadata": {},
     "output_type": "execute_result"
    }
   ],
   "source": [
    "test5.describe()"
   ]
  },
  {
   "cell_type": "code",
   "execution_count": 1129,
   "metadata": {},
   "outputs": [
    {
     "data": {
      "text/html": [
       "<div>\n",
       "<style scoped>\n",
       "    .dataframe tbody tr th:only-of-type {\n",
       "        vertical-align: middle;\n",
       "    }\n",
       "\n",
       "    .dataframe tbody tr th {\n",
       "        vertical-align: top;\n",
       "    }\n",
       "\n",
       "    .dataframe thead th {\n",
       "        text-align: right;\n",
       "    }\n",
       "</style>\n",
       "<table border=\"1\" class=\"dataframe\">\n",
       "  <thead>\n",
       "    <tr style=\"text-align: right;\">\n",
       "      <th></th>\n",
       "      <th>Tahun</th>\n",
       "      <th>Gini Rasio</th>\n",
       "    </tr>\n",
       "  </thead>\n",
       "  <tbody>\n",
       "    <tr>\n",
       "      <th>Tahun</th>\n",
       "      <td>1.000000</td>\n",
       "      <td>-0.849973</td>\n",
       "    </tr>\n",
       "    <tr>\n",
       "      <th>Gini Rasio</th>\n",
       "      <td>-0.849973</td>\n",
       "      <td>1.000000</td>\n",
       "    </tr>\n",
       "  </tbody>\n",
       "</table>\n",
       "</div>"
      ],
      "text/plain": [
       "               Tahun  Gini Rasio\n",
       "Tahun       1.000000   -0.849973\n",
       "Gini Rasio -0.849973    1.000000"
      ]
     },
     "execution_count": 1129,
     "metadata": {},
     "output_type": "execute_result"
    }
   ],
   "source": [
    "test5.corr()"
   ]
  },
  {
   "cell_type": "code",
   "execution_count": 1130,
   "metadata": {},
   "outputs": [
    {
     "data": {
      "image/png": "[encoded data removed]",
      "text/plain": [
       "<Figure size 1080x720 with 2 Axes>"
      ]
     },
     "metadata": {
      "needs_background": "light"
     },
     "output_type": "display_data"
    }
   ],
   "source": [
    "korelasi = test5.corr()\n",
    "plt.figure(figsize=(15, 10))\n",
    "sns.heatmap(korelasi[(korelasi <= 0.5) | (korelasi >= -0.8)], cmap='viridis', vmax=1.0, vmin=-1.0, linewidths=0.1, \n",
    "            annot=True, annot_kws={\"size\": 8}, square=True).set_title('Korelasi Antar Variabel')\n",
    "plt.show()"
   ]
  },
  {
   "cell_type": "code",
   "execution_count": 1131,
   "metadata": {},
   "outputs": [
    {
     "data": {
      "text/plain": [
       "<function matplotlib.pyplot.show(close=None, block=None)>"
      ]
     },
     "execution_count": 1131,
     "metadata": {},
     "output_type": "execute_result"
    },
    {
     "data": {
      "image/png": "[encoded data removed]",
      "text/plain": [
       "<Figure size 432x288 with 1 Axes>"
      ]
     },
     "metadata": {
      "needs_background": "light"
     },
     "output_type": "display_data"
    }
   ],
   "source": [
    "test5.plot(x='Tahun',y=\"Gini Rasio\", style='o')\n",
    "plt.title('Perbandingan Tahun dan Gini Rasio')\n",
    "plt.xlabel('Tahun')\n",
    "plt.ylabel('Gini Rasio')\n",
    "plt.show"
   ]
  },
  {
   "cell_type": "markdown",
   "metadata": {},
   "source": [
    "# B. Pemodelan Regresi Linear\n",
    "> Berdasarkan model data yang ada, maka dirancang pemodelan regeresi untuk tiap tiap model data test. "
   ]
  },
  {
   "cell_type": "code",
   "execution_count": 1132,
   "metadata": {},
   "outputs": [],
   "source": [
    "from sklearn.model_selection import train_test_split\n",
    "from sklearn.linear_model import LinearRegression\n",
    "from sklearn import metrics"
   ]
  },
  {
   "cell_type": "markdown",
   "metadata": {},
   "source": [
    "# Test 1"
   ]
  },
  {
   "cell_type": "code",
   "execution_count": 1133,
   "metadata": {},
   "outputs": [
    {
     "data": {
      "image/png": "[encoded data removed]",
      "text/plain": [
       "<Figure size 800x640 with 1 Axes>"
      ]
     },
     "metadata": {
      "needs_background": "light"
     },
     "output_type": "display_data"
    }
   ],
   "source": [
    "plt.figure(figsize=(10,8), dpi = 80)\n",
    "plt.scatter(test1[\"Tahun\"], test1[\"GK Makanan\"])\n",
    "plt.grid()\n",
    "plt.title(\"Tahun VS GK Makanan\")\n",
    "plt.xlabel(\"Tahun\")\n",
    "plt.ylabel(\"GK Makanan\")\n",
    "plt.show()"
   ]
  },
  {
   "cell_type": "code",
   "execution_count": 1134,
   "metadata": {},
   "outputs": [],
   "source": [
    "x1 = test1[\"Tahun\"].values.reshape(-1,1)\n",
    "y1 = test1[\"GK Makanan\"].values.reshape(-1,1)"
   ]
  },
  {
   "cell_type": "code",
   "execution_count": 1135,
   "metadata": {},
   "outputs": [],
   "source": [
    "x_train1, x_test1, y_train1, y_test1 = train_test_split(x1,y1, test_size = 0.75, random_state = 0)"
   ]
  },
  {
   "cell_type": "code",
   "execution_count": 1136,
   "metadata": {},
   "outputs": [
    {
     "data": {
      "text/plain": [
       "LinearRegression()"
      ]
     },
     "execution_count": 1136,
     "metadata": {},
     "output_type": "execute_result"
    }
   ],
   "source": [
    "regressor1 = LinearRegression()\n",
    "regressor1.fit(x_train1, y_train1)"
   ]
  },
  {
   "cell_type": "code",
   "execution_count": 1137,
   "metadata": {},
   "outputs": [],
   "source": [
    "y_pred1 = regressor1.predict(x_test1)"
   ]
  },
  {
   "cell_type": "code",
   "execution_count": 1138,
   "metadata": {},
   "outputs": [
    {
     "name": "stdout",
     "output_type": "stream",
     "text": [
      "[-40593909.99999999]\n",
      "[[20262.]]\n"
     ]
    }
   ],
   "source": [
    "#Intercept\n",
    "print(regressor1.intercept_)\n",
    "\n",
    "#Slope\n",
    "print(regressor1.coef_)"
   ]
  },
  {
   "cell_type": "code",
   "execution_count": 1139,
   "metadata": {},
   "outputs": [
    {
     "name": "stdout",
     "output_type": "stream",
     "text": [
      "Y =  -40593909.999999985 + 20261.999999999993 X\n"
     ]
    }
   ],
   "source": [
    "#persamaan regresi\n",
    "a=float(regressor1.intercept_)\n",
    "b=float(regressor1.coef_)\n",
    "print ('Y = ',a,'+',b,'X')"
   ]
  },
  {
   "cell_type": "markdown",
   "metadata": {},
   "source": [
    "# Test 2"
   ]
  },
  {
   "cell_type": "code",
   "execution_count": 1140,
   "metadata": {},
   "outputs": [
    {
     "data": {
      "image/png": "[encoded data removed]",
      "text/plain": [
       "<Figure size 800x640 with 1 Axes>"
      ]
     },
     "metadata": {
      "needs_background": "light"
     },
     "output_type": "display_data"
    }
   ],
   "source": [
    "plt.figure(figsize=(10,8), dpi = 80)\n",
    "plt.scatter(test2[\"Tahun\"], test2[\"GK Non Makanan\"])\n",
    "plt.grid()\n",
    "plt.title(\"Tahun VS GK Non Makanan\")\n",
    "plt.xlabel(\"Tahun\")\n",
    "plt.ylabel(\"GK Non Makanan\")\n",
    "plt.show()"
   ]
  },
  {
   "cell_type": "code",
   "execution_count": 1141,
   "metadata": {},
   "outputs": [],
   "source": [
    "x2 = test2[\"Tahun\"].values.reshape(-1,1)\n",
    "y2 = test2[\"GK Non Makanan\"].values.reshape(-1,1)"
   ]
  },
  {
   "cell_type": "code",
   "execution_count": 1142,
   "metadata": {},
   "outputs": [],
   "source": [
    "x_train2, x_test2, y_train2, y_test2 = train_test_split(x2,y2, test_size = 0.75, random_state = 0)"
   ]
  },
  {
   "cell_type": "code",
   "execution_count": 1143,
   "metadata": {},
   "outputs": [
    {
     "data": {
      "text/plain": [
       "LinearRegression()"
      ]
     },
     "execution_count": 1143,
     "metadata": {},
     "output_type": "execute_result"
    }
   ],
   "source": [
    "regressor2 = LinearRegression()\n",
    "regressor2.fit(x_train2, y_train2)"
   ]
  },
  {
   "cell_type": "code",
   "execution_count": 1144,
   "metadata": {},
   "outputs": [],
   "source": [
    "y_pred2 = regressor2.predict(x_test2)"
   ]
  },
  {
   "cell_type": "code",
   "execution_count": 1145,
   "metadata": {},
   "outputs": [
    {
     "name": "stdout",
     "output_type": "stream",
     "text": [
      "[-12972243.99999999]\n",
      "[[6481.]]\n"
     ]
    }
   ],
   "source": [
    "#Intercept\n",
    "print(regressor2.intercept_)\n",
    "\n",
    "#Slope\n",
    "print(regressor2.coef_)"
   ]
  },
  {
   "cell_type": "code",
   "execution_count": 1146,
   "metadata": {},
   "outputs": [
    {
     "name": "stdout",
     "output_type": "stream",
     "text": [
      "Y =  -12972243.999999993 + 6480.999999999996 X\n"
     ]
    }
   ],
   "source": [
    "#persamaan regresi\n",
    "a=float(regressor2.intercept_)\n",
    "b=float(regressor2.coef_)\n",
    "print ('Y = ',a,'+',b,'X')"
   ]
  },
  {
   "cell_type": "markdown",
   "metadata": {},
   "source": [
    "# Test 3"
   ]
  },
  {
   "cell_type": "code",
   "execution_count": 1309,
   "metadata": {},
   "outputs": [
    {
     "data": {
      "image/png": "[encoded data removed]",
      "text/plain": [
       "<Figure size 800x640 with 1 Axes>"
      ]
     },
     "metadata": {
      "needs_background": "light"
     },
     "output_type": "display_data"
    }
   ],
   "source": [
    "plt.figure(figsize=(10,8), dpi = 80)\n",
    "plt.scatter(test3[\"Tahun\"], test3[\"Jumlah\"])\n",
    "plt.grid()\n",
    "plt.title(\"Tahun VS Jumlah Penduduk Miskin (Ribu Jiwa)\")\n",
    "plt.xlabel(\"Tahun\")\n",
    "plt.ylabel(\"Jumlah\")\n",
    "plt.show()"
   ]
  },
  {
   "cell_type": "code",
   "execution_count": 1310,
   "metadata": {},
   "outputs": [],
   "source": [
    "x3 = test3[\"Tahun\"].values.reshape(-1,1)\n",
    "y3 = test3[\"Jumlah\"].values.reshape(-1,1)"
   ]
  },
  {
   "cell_type": "code",
   "execution_count": 1311,
   "metadata": {},
   "outputs": [],
   "source": [
    "x_train3, x_test3, y_train3, y_test3 = train_test_split(x3,y3, test_size = 0.25, random_state = 0)"
   ]
  },
  {
   "cell_type": "code",
   "execution_count": 1312,
   "metadata": {},
   "outputs": [
    {
     "data": {
      "text/plain": [
       "LinearRegression()"
      ]
     },
     "execution_count": 1312,
     "metadata": {},
     "output_type": "execute_result"
    }
   ],
   "source": [
    "regressor3 = LinearRegression()\n",
    "regressor3.fit(x_train3, y_train3)"
   ]
  },
  {
   "cell_type": "code",
   "execution_count": 1313,
   "metadata": {},
   "outputs": [],
   "source": [
    "y_pred3 = regressor3.predict(x_test3)"
   ]
  },
  {
   "cell_type": "code",
   "execution_count": 1314,
   "metadata": {},
   "outputs": [
    {
     "name": "stdout",
     "output_type": "stream",
     "text": [
      "[546075.2036]\n",
      "[[-257.2068]]\n"
     ]
    }
   ],
   "source": [
    "#Intercept\n",
    "print(regressor3.intercept_)\n",
    "\n",
    "#Slope\n",
    "print(regressor3.coef_)"
   ]
  },
  {
   "cell_type": "code",
   "execution_count": 1315,
   "metadata": {},
   "outputs": [
    {
     "name": "stdout",
     "output_type": "stream",
     "text": [
      "Y =  546075.2036000004 + -257.20680000000016 X\n"
     ]
    }
   ],
   "source": [
    "#persamaan regresi\n",
    "a=float(regressor3.intercept_)\n",
    "b=float(regressor3.coef_)\n",
    "print ('Y = ',a,'+',b,'X')"
   ]
  },
  {
   "cell_type": "markdown",
   "metadata": {},
   "source": [
    "# Test 4"
   ]
  },
  {
   "cell_type": "code",
   "execution_count": 1316,
   "metadata": {},
   "outputs": [
    {
     "data": {
      "image/png": "[encoded data removed]",
      "text/plain": [
       "<Figure size 800x640 with 1 Axes>"
      ]
     },
     "metadata": {
      "needs_background": "light"
     },
     "output_type": "display_data"
    }
   ],
   "source": [
    "plt.figure(figsize=(10,8), dpi = 80)\n",
    "plt.scatter(test4[\"Tahun\"], test4[\"Persentase\"])\n",
    "plt.grid()\n",
    "plt.title(\"Tahun VS Persentase Penduduk Miskin\")\n",
    "plt.xlabel(\"Tahun\")\n",
    "plt.ylabel(\"Persentase Penduduk Miskin\")\n",
    "plt.show()"
   ]
  },
  {
   "cell_type": "code",
   "execution_count": 1318,
   "metadata": {},
   "outputs": [],
   "source": [
    "x4 = test4[\"Tahun\"].values.reshape(-1,1)\n",
    "y4 = test4[\"Persentase\"].values.reshape(-1,1)"
   ]
  },
  {
   "cell_type": "code",
   "execution_count": 1319,
   "metadata": {},
   "outputs": [],
   "source": [
    "x_train4, x_test4, y_train4, y_test4 = train_test_split(x4,y4, test_size = 0.25, random_state = 0)"
   ]
  },
  {
   "cell_type": "code",
   "execution_count": 1320,
   "metadata": {},
   "outputs": [
    {
     "data": {
      "text/plain": [
       "LinearRegression()"
      ]
     },
     "execution_count": 1320,
     "metadata": {},
     "output_type": "execute_result"
    }
   ],
   "source": [
    "regressor4 = LinearRegression()\n",
    "regressor4.fit(x_train4, y_train4)"
   ]
  },
  {
   "cell_type": "code",
   "execution_count": 1321,
   "metadata": {},
   "outputs": [],
   "source": [
    "y_pred4 = regressor4.predict(x_test4)"
   ]
  },
  {
   "cell_type": "code",
   "execution_count": 1322,
   "metadata": {},
   "outputs": [
    {
     "name": "stdout",
     "output_type": "stream",
     "text": [
      "[423.3494]\n",
      "[[-0.2047]]\n"
     ]
    }
   ],
   "source": [
    "#Intercept\n",
    "print(regressor4.intercept_)\n",
    "\n",
    "#Slope\n",
    "print(regressor4.coef_)"
   ]
  },
  {
   "cell_type": "code",
   "execution_count": 1323,
   "metadata": {},
   "outputs": [
    {
     "name": "stdout",
     "output_type": "stream",
     "text": [
      "Y =  423.34940000000034 + -0.20470000000000016 X\n"
     ]
    }
   ],
   "source": [
    "#persamaan regresi\n",
    "a=float(regressor4.intercept_)\n",
    "b=float(regressor4.coef_)\n",
    "print ('Y = ',a,'+',b,'X')"
   ]
  },
  {
   "cell_type": "markdown",
   "metadata": {},
   "source": [
    "# Test 5"
   ]
  },
  {
   "cell_type": "code",
   "execution_count": 1324,
   "metadata": {},
   "outputs": [
    {
     "data": {
      "image/png": "[encoded data removed]",
      "text/plain": [
       "<Figure size 800x640 with 1 Axes>"
      ]
     },
     "metadata": {
      "needs_background": "light"
     },
     "output_type": "display_data"
    }
   ],
   "source": [
    "plt.figure(figsize=(10,8), dpi = 80)\n",
    "plt.scatter(test5[\"Tahun\"], test5[\"Gini Rasio\"])\n",
    "plt.grid()\n",
    "plt.title(\"Tahun VS Gini Rasio\")\n",
    "plt.xlabel(\"Tahun\")\n",
    "plt.ylabel(\"Gini Rasio\")\n",
    "plt.show()"
   ]
  },
  {
   "cell_type": "code",
   "execution_count": 1326,
   "metadata": {},
   "outputs": [],
   "source": [
    "x5 = test5[\"Tahun\"].values.reshape(-1,1)\n",
    "y5 = test5[\"Gini Rasio\"].values.reshape(-1,1)"
   ]
  },
  {
   "cell_type": "code",
   "execution_count": 1327,
   "metadata": {},
   "outputs": [],
   "source": [
    "x_train5, x_test5, y_train5, y_test5 = train_test_split(x5,y5, test_size = 0.25, random_state = 0)"
   ]
  },
  {
   "cell_type": "code",
   "execution_count": 1328,
   "metadata": {},
   "outputs": [
    {
     "data": {
      "text/plain": [
       "LinearRegression()"
      ]
     },
     "execution_count": 1328,
     "metadata": {},
     "output_type": "execute_result"
    }
   ],
   "source": [
    "regressor5 = LinearRegression()\n",
    "regressor5.fit(x_train5, y_train5)"
   ]
  },
  {
   "cell_type": "code",
   "execution_count": 1329,
   "metadata": {},
   "outputs": [
    {
     "name": "stdout",
     "output_type": "stream",
     "text": [
      "[6.870531]\n",
      "[[-0.0032105]]\n"
     ]
    }
   ],
   "source": [
    "#Intercept\n",
    "print(regressor5.intercept_)\n",
    "\n",
    "#Slope\n",
    "print(regressor5.coef_)"
   ]
  },
  {
   "cell_type": "code",
   "execution_count": 1330,
   "metadata": {},
   "outputs": [],
   "source": [
    "y_pred5 = regressor5.predict(x_test5)"
   ]
  },
  {
   "cell_type": "code",
   "execution_count": 1331,
   "metadata": {},
   "outputs": [
    {
     "name": "stdout",
     "output_type": "stream",
     "text": [
      "Y =  6.870530999999996 + -0.003210499999999998 X\n"
     ]
    }
   ],
   "source": [
    "#persamaan regresi\n",
    "a=float(regressor5.intercept_)\n",
    "b=float(regressor5.coef_)\n",
    "print ('Y = ',a,'+',b,'X')"
   ]
  },
  {
   "cell_type": "markdown",
   "metadata": {},
   "source": [
    "# BAB 5 : Evaluation\n",
    "# A. Pengujian Model Regresi Linear\n",
    "> Berdasarkan model yang sudah dirancang sebelumnya dilakukan pengujian prediksi. Pengujian ini untuk mengetahui nilai r2 atau besaran pengaruh dari variabel 1 dan variabel lainnya."
   ]
  },
  {
   "cell_type": "markdown",
   "metadata": {},
   "source": [
    "# Test 1"
   ]
  },
  {
   "cell_type": "code",
   "execution_count": 1168,
   "metadata": {},
   "outputs": [
    {
     "data": {
      "image/png": "[encoded data removed]",
      "text/plain": [
       "<Figure size 432x288 with 1 Axes>"
      ]
     },
     "metadata": {
      "needs_background": "light"
     },
     "output_type": "display_data"
    }
   ],
   "source": [
    "plt.scatter(x_test1, y_test1, color=\"gray\")\n",
    "plt.plot(x_test1,y_pred1, color=\"red\")\n",
    "plt.show()"
   ]
  },
  {
   "cell_type": "code",
   "execution_count": 1169,
   "metadata": {},
   "outputs": [
    {
     "data": {
      "text/plain": [
       "array([[2016],\n",
       "       [2020],\n",
       "       [2021],\n",
       "       [2015],\n",
       "       [2019],\n",
       "       [2022]], dtype=int64)"
      ]
     },
     "execution_count": 1169,
     "metadata": {},
     "output_type": "execute_result"
    }
   ],
   "source": [
    "x_test1"
   ]
  },
  {
   "cell_type": "code",
   "execution_count": 1170,
   "metadata": {},
   "outputs": [
    {
     "data": {
      "text/html": [
       "<div>\n",
       "<style scoped>\n",
       "    .dataframe tbody tr th:only-of-type {\n",
       "        vertical-align: middle;\n",
       "    }\n",
       "\n",
       "    .dataframe tbody tr th {\n",
       "        vertical-align: top;\n",
       "    }\n",
       "\n",
       "    .dataframe thead th {\n",
       "        text-align: right;\n",
       "    }\n",
       "</style>\n",
       "<table border=\"1\" class=\"dataframe\">\n",
       "  <thead>\n",
       "    <tr style=\"text-align: right;\">\n",
       "      <th></th>\n",
       "      <th>Actual</th>\n",
       "      <th>Predicted</th>\n",
       "    </tr>\n",
       "  </thead>\n",
       "  <tbody>\n",
       "    <tr>\n",
       "      <th>0</th>\n",
       "      <td>260469</td>\n",
       "      <td>254282.0</td>\n",
       "    </tr>\n",
       "    <tr>\n",
       "      <th>1</th>\n",
       "      <td>335793</td>\n",
       "      <td>335330.0</td>\n",
       "    </tr>\n",
       "    <tr>\n",
       "      <th>2</th>\n",
       "      <td>349474</td>\n",
       "      <td>355592.0</td>\n",
       "    </tr>\n",
       "    <tr>\n",
       "      <th>3</th>\n",
       "      <td>242241</td>\n",
       "      <td>234020.0</td>\n",
       "    </tr>\n",
       "    <tr>\n",
       "      <th>4</th>\n",
       "      <td>313232</td>\n",
       "      <td>315068.0</td>\n",
       "    </tr>\n",
       "    <tr>\n",
       "      <th>5</th>\n",
       "      <td>374454</td>\n",
       "      <td>375854.0</td>\n",
       "    </tr>\n",
       "  </tbody>\n",
       "</table>\n",
       "</div>"
      ],
      "text/plain": [
       "   Actual  Predicted\n",
       "0  260469   254282.0\n",
       "1  335793   335330.0\n",
       "2  349474   355592.0\n",
       "3  242241   234020.0\n",
       "4  313232   315068.0\n",
       "5  374454   375854.0"
      ]
     },
     "execution_count": 1170,
     "metadata": {},
     "output_type": "execute_result"
    }
   ],
   "source": [
    "compare = pd.DataFrame({\"Actual\":y_test1.flatten(), \"Predicted\":y_pred1.flatten()})\n",
    "compare"
   ]
  },
  {
   "cell_type": "code",
   "execution_count": 1171,
   "metadata": {},
   "outputs": [
    {
     "name": "stdout",
     "output_type": "stream",
     "text": [
      "Mean Absolute Error:  4037.5\n",
      "Mean Squared Error:  24806499.833333332\n",
      "Root Mean Squared Error:  4980.612395412168\n",
      "R2 Score:  0.988885937975477\n"
     ]
    }
   ],
   "source": [
    "import numpy as np\n",
    "#Check Error\n",
    "print(\"Mean Absolute Error: \", metrics.mean_absolute_error(y_test1, y_pred1))\n",
    "print(\"Mean Squared Error: \", metrics.mean_squared_error(y_test1, y_pred1))\n",
    "print(\"Root Mean Squared Error: \", np.sqrt(metrics.mean_squared_error(y_test1, y_pred1)))\n",
    "print(\"R2 Score: \", metrics.r2_score(y_test1, y_pred1))"
   ]
  },
  {
   "cell_type": "markdown",
   "metadata": {},
   "source": [
    "# Test 2"
   ]
  },
  {
   "cell_type": "code",
   "execution_count": 1172,
   "metadata": {},
   "outputs": [
    {
     "data": {
      "image/png": "[encoded data removed]",
      "text/plain": [
       "<Figure size 432x288 with 1 Axes>"
      ]
     },
     "metadata": {
      "needs_background": "light"
     },
     "output_type": "display_data"
    }
   ],
   "source": [
    "plt.scatter(x_test2, y_test2, color=\"gray\")\n",
    "plt.plot(x_test2,y_pred2, color=\"red\")\n",
    "plt.show()"
   ]
  },
  {
   "cell_type": "code",
   "execution_count": 1173,
   "metadata": {},
   "outputs": [
    {
     "data": {
      "text/plain": [
       "array([[2016],\n",
       "       [2020],\n",
       "       [2021],\n",
       "       [2015],\n",
       "       [2019],\n",
       "       [2022]], dtype=int64)"
      ]
     },
     "execution_count": 1173,
     "metadata": {},
     "output_type": "execute_result"
    }
   ],
   "source": [
    "x_test2"
   ]
  },
  {
   "cell_type": "code",
   "execution_count": 1174,
   "metadata": {},
   "outputs": [
    {
     "data": {
      "text/html": [
       "<div>\n",
       "<style scoped>\n",
       "    .dataframe tbody tr th:only-of-type {\n",
       "        vertical-align: middle;\n",
       "    }\n",
       "\n",
       "    .dataframe tbody tr th {\n",
       "        vertical-align: top;\n",
       "    }\n",
       "\n",
       "    .dataframe thead th {\n",
       "        text-align: right;\n",
       "    }\n",
       "</style>\n",
       "<table border=\"1\" class=\"dataframe\">\n",
       "  <thead>\n",
       "    <tr style=\"text-align: right;\">\n",
       "      <th></th>\n",
       "      <th>Actual</th>\n",
       "      <th>Predicted</th>\n",
       "    </tr>\n",
       "  </thead>\n",
       "  <tbody>\n",
       "    <tr>\n",
       "      <th>0</th>\n",
       "      <td>93917</td>\n",
       "      <td>93452.0</td>\n",
       "    </tr>\n",
       "    <tr>\n",
       "      <th>1</th>\n",
       "      <td>118859</td>\n",
       "      <td>119376.0</td>\n",
       "    </tr>\n",
       "    <tr>\n",
       "      <th>2</th>\n",
       "      <td>123051</td>\n",
       "      <td>125857.0</td>\n",
       "    </tr>\n",
       "    <tr>\n",
       "      <th>3</th>\n",
       "      <td>88535</td>\n",
       "      <td>86971.0</td>\n",
       "    </tr>\n",
       "    <tr>\n",
       "      <th>4</th>\n",
       "      <td>112018</td>\n",
       "      <td>112895.0</td>\n",
       "    </tr>\n",
       "    <tr>\n",
       "      <th>5</th>\n",
       "      <td>131014</td>\n",
       "      <td>132338.0</td>\n",
       "    </tr>\n",
       "  </tbody>\n",
       "</table>\n",
       "</div>"
      ],
      "text/plain": [
       "   Actual  Predicted\n",
       "0   93917    93452.0\n",
       "1  118859   119376.0\n",
       "2  123051   125857.0\n",
       "3   88535    86971.0\n",
       "4  112018   112895.0\n",
       "5  131014   132338.0"
      ]
     },
     "execution_count": 1174,
     "metadata": {},
     "output_type": "execute_result"
    }
   ],
   "source": [
    "compare = pd.DataFrame({\"Actual\":y_test2.flatten(), \"Predicted\":y_pred2.flatten()})\n",
    "compare"
   ]
  },
  {
   "cell_type": "code",
   "execution_count": 1175,
   "metadata": {},
   "outputs": [
    {
     "name": "stdout",
     "output_type": "stream",
     "text": [
      "Mean Absolute Error:  1258.8333333333333\n",
      "Mean Squared Error:  2220891.8333333335\n",
      "Root Mean Squared Error:  1490.2656921949633\n",
      "R2 Score:  0.9905141997171144\n"
     ]
    }
   ],
   "source": [
    "#Check Error\n",
    "print(\"Mean Absolute Error: \", metrics.mean_absolute_error(y_test2, y_pred2))\n",
    "print(\"Mean Squared Error: \", metrics.mean_squared_error(y_test2, y_pred2))\n",
    "print(\"Root Mean Squared Error: \", np.sqrt(metrics.mean_squared_error(y_test2, y_pred2)))\n",
    "print(\"R2 Score: \", metrics.r2_score(y_test2, y_pred2))"
   ]
  },
  {
   "cell_type": "markdown",
   "metadata": {},
   "source": [
    "# Test 3"
   ]
  },
  {
   "cell_type": "code",
   "execution_count": 1332,
   "metadata": {},
   "outputs": [
    {
     "data": {
      "image/png": "[encoded data removed]",
      "text/plain": [
       "<Figure size 432x288 with 1 Axes>"
      ]
     },
     "metadata": {
      "needs_background": "light"
     },
     "output_type": "display_data"
    }
   ],
   "source": [
    "plt.scatter(x_test3, y_test3, color=\"gray\")\n",
    "plt.plot(x_test3,y_pred3, color=\"red\")\n",
    "plt.show()"
   ]
  },
  {
   "cell_type": "code",
   "execution_count": 1333,
   "metadata": {},
   "outputs": [
    {
     "data": {
      "text/plain": [
       "array([[2016],\n",
       "       [2020]], dtype=int64)"
      ]
     },
     "execution_count": 1333,
     "metadata": {},
     "output_type": "execute_result"
    }
   ],
   "source": [
    "x_test3"
   ]
  },
  {
   "cell_type": "code",
   "execution_count": 1334,
   "metadata": {},
   "outputs": [
    {
     "data": {
      "text/html": [
       "<div>\n",
       "<style scoped>\n",
       "    .dataframe tbody tr th:only-of-type {\n",
       "        vertical-align: middle;\n",
       "    }\n",
       "\n",
       "    .dataframe tbody tr th {\n",
       "        vertical-align: top;\n",
       "    }\n",
       "\n",
       "    .dataframe thead th {\n",
       "        text-align: right;\n",
       "    }\n",
       "</style>\n",
       "<table border=\"1\" class=\"dataframe\">\n",
       "  <thead>\n",
       "    <tr style=\"text-align: right;\">\n",
       "      <th></th>\n",
       "      <th>Actual</th>\n",
       "      <th>Predicted</th>\n",
       "    </tr>\n",
       "  </thead>\n",
       "  <tbody>\n",
       "    <tr>\n",
       "      <th>0</th>\n",
       "      <td>28005.39</td>\n",
       "      <td>27546.2948</td>\n",
       "    </tr>\n",
       "    <tr>\n",
       "      <th>1</th>\n",
       "      <td>26424.02</td>\n",
       "      <td>26517.4676</td>\n",
       "    </tr>\n",
       "  </tbody>\n",
       "</table>\n",
       "</div>"
      ],
      "text/plain": [
       "     Actual   Predicted\n",
       "0  28005.39  27546.2948\n",
       "1  26424.02  26517.4676"
      ]
     },
     "execution_count": 1334,
     "metadata": {},
     "output_type": "execute_result"
    }
   ],
   "source": [
    "compare = pd.DataFrame({\"Actual\":y_test3.flatten(), \"Predicted\":y_pred3.flatten()})\n",
    "compare"
   ]
  },
  {
   "cell_type": "code",
   "execution_count": 1335,
   "metadata": {},
   "outputs": [
    {
     "name": "stdout",
     "output_type": "stream",
     "text": [
      "Mean Absolute Error:  276.27139999999963\n",
      "Mean Squared Error:  109750.42830438787\n",
      "Root Mean Squared Error:  331.2860218970729\n",
      "R2 Score:  0.8244506507426\n"
     ]
    }
   ],
   "source": [
    "#Check Error\n",
    "print(\"Mean Absolute Error: \", metrics.mean_absolute_error(y_test3, y_pred3))\n",
    "print(\"Mean Squared Error: \", metrics.mean_squared_error(y_test3, y_pred3))\n",
    "print(\"Root Mean Squared Error: \", np.sqrt(metrics.mean_squared_error(y_test3, y_pred3)))\n",
    "print(\"R2 Score: \", metrics.r2_score(y_test3, y_pred3))"
   ]
  },
  {
   "cell_type": "markdown",
   "metadata": {},
   "source": [
    "# Test 4"
   ]
  },
  {
   "cell_type": "code",
   "execution_count": 1336,
   "metadata": {},
   "outputs": [
    {
     "data": {
      "image/png": "[encoded data removed]",
      "text/plain": [
       "<Figure size 432x288 with 1 Axes>"
      ]
     },
     "metadata": {
      "needs_background": "light"
     },
     "output_type": "display_data"
    }
   ],
   "source": [
    "plt.scatter(x_test4, y_test4, color=\"gray\")\n",
    "plt.plot(x_test4,y_pred4, color=\"red\")\n",
    "plt.show()"
   ]
  },
  {
   "cell_type": "code",
   "execution_count": 1337,
   "metadata": {},
   "outputs": [
    {
     "data": {
      "text/plain": [
       "array([[2016],\n",
       "       [2020]], dtype=int64)"
      ]
     },
     "execution_count": 1337,
     "metadata": {},
     "output_type": "execute_result"
    }
   ],
   "source": [
    "x_test4"
   ]
  },
  {
   "cell_type": "code",
   "execution_count": 1338,
   "metadata": {},
   "outputs": [
    {
     "data": {
      "text/html": [
       "<div>\n",
       "<style scoped>\n",
       "    .dataframe tbody tr th:only-of-type {\n",
       "        vertical-align: middle;\n",
       "    }\n",
       "\n",
       "    .dataframe tbody tr th {\n",
       "        vertical-align: top;\n",
       "    }\n",
       "\n",
       "    .dataframe thead th {\n",
       "        text-align: right;\n",
       "    }\n",
       "</style>\n",
       "<table border=\"1\" class=\"dataframe\">\n",
       "  <thead>\n",
       "    <tr style=\"text-align: right;\">\n",
       "      <th></th>\n",
       "      <th>Actual</th>\n",
       "      <th>Predicted</th>\n",
       "    </tr>\n",
       "  </thead>\n",
       "  <tbody>\n",
       "    <tr>\n",
       "      <th>0</th>\n",
       "      <td>10.86</td>\n",
       "      <td>10.6742</td>\n",
       "    </tr>\n",
       "    <tr>\n",
       "      <th>1</th>\n",
       "      <td>9.78</td>\n",
       "      <td>9.8554</td>\n",
       "    </tr>\n",
       "  </tbody>\n",
       "</table>\n",
       "</div>"
      ],
      "text/plain": [
       "   Actual  Predicted\n",
       "0   10.86    10.6742\n",
       "1    9.78     9.8554"
      ]
     },
     "execution_count": 1338,
     "metadata": {},
     "output_type": "execute_result"
    }
   ],
   "source": [
    "compare = pd.DataFrame({\"Actual\":y_test4.flatten(), \"Predicted\":y_pred4.flatten()})\n",
    "compare"
   ]
  },
  {
   "cell_type": "code",
   "execution_count": 1339,
   "metadata": {},
   "outputs": [
    {
     "name": "stdout",
     "output_type": "stream",
     "text": [
      "Mean Absolute Error:  0.13059999999999494\n",
      "Mean Squared Error:  0.020103399999994574\n",
      "Root Mean Squared Error:  0.14178645915599478\n",
      "R2 Score:  0.9310582990397991\n"
     ]
    }
   ],
   "source": [
    "#Check Error\n",
    "print(\"Mean Absolute Error: \", metrics.mean_absolute_error(y_test4, y_pred4))\n",
    "print(\"Mean Squared Error: \", metrics.mean_squared_error(y_test4, y_pred4))\n",
    "print(\"Root Mean Squared Error: \", np.sqrt(metrics.mean_squared_error(y_test4, y_pred4)))\n",
    "print(\"R2 Score: \", metrics.r2_score(y_test4, y_pred4))"
   ]
  },
  {
   "cell_type": "markdown",
   "metadata": {},
   "source": [
    "# Test 5"
   ]
  },
  {
   "cell_type": "code",
   "execution_count": 1340,
   "metadata": {},
   "outputs": [
    {
     "data": {
      "image/png": "[encoded data removed]",
      "text/plain": [
       "<Figure size 432x288 with 1 Axes>"
      ]
     },
     "metadata": {
      "needs_background": "light"
     },
     "output_type": "display_data"
    }
   ],
   "source": [
    "plt.scatter(x_test5, y_test5, color=\"gray\")\n",
    "plt.plot(x_test5,y_pred5, color=\"red\")\n",
    "plt.show()"
   ]
  },
  {
   "cell_type": "code",
   "execution_count": 1341,
   "metadata": {},
   "outputs": [
    {
     "data": {
      "text/plain": [
       "array([[2016],\n",
       "       [2020]], dtype=int64)"
      ]
     },
     "execution_count": 1341,
     "metadata": {},
     "output_type": "execute_result"
    }
   ],
   "source": [
    "x_test5"
   ]
  },
  {
   "cell_type": "code",
   "execution_count": 1342,
   "metadata": {},
   "outputs": [
    {
     "data": {
      "text/html": [
       "<div>\n",
       "<style scoped>\n",
       "    .dataframe tbody tr th:only-of-type {\n",
       "        vertical-align: middle;\n",
       "    }\n",
       "\n",
       "    .dataframe tbody tr th {\n",
       "        vertical-align: top;\n",
       "    }\n",
       "\n",
       "    .dataframe thead th {\n",
       "        text-align: right;\n",
       "    }\n",
       "</style>\n",
       "<table border=\"1\" class=\"dataframe\">\n",
       "  <thead>\n",
       "    <tr style=\"text-align: right;\">\n",
       "      <th></th>\n",
       "      <th>Actual</th>\n",
       "      <th>Predicted</th>\n",
       "    </tr>\n",
       "  </thead>\n",
       "  <tbody>\n",
       "    <tr>\n",
       "      <th>0</th>\n",
       "      <td>0.397</td>\n",
       "      <td>0.398163</td>\n",
       "    </tr>\n",
       "    <tr>\n",
       "      <th>1</th>\n",
       "      <td>0.381</td>\n",
       "      <td>0.385321</td>\n",
       "    </tr>\n",
       "  </tbody>\n",
       "</table>\n",
       "</div>"
      ],
      "text/plain": [
       "   Actual  Predicted\n",
       "0   0.397   0.398163\n",
       "1   0.381   0.385321"
      ]
     },
     "execution_count": 1342,
     "metadata": {},
     "output_type": "execute_result"
    }
   ],
   "source": [
    "compare = pd.DataFrame({\"Actual\":y_test5.flatten(), \"Predicted\":y_pred5.flatten()})\n",
    "compare"
   ]
  },
  {
   "cell_type": "code",
   "execution_count": 1343,
   "metadata": {},
   "outputs": [
    {
     "name": "stdout",
     "output_type": "stream",
     "text": [
      "Mean Absolute Error:  0.0027420000000002442\n",
      "Mean Squared Error:  1.001180500000133e-05\n",
      "Root Mean Squared Error:  0.0031641436440214485\n",
      "R2 Score:  0.8435655468749795\n"
     ]
    }
   ],
   "source": [
    "#Check Error\n",
    "print(\"Mean Absolute Error: \", metrics.mean_absolute_error(y_test5, y_pred5))\n",
    "print(\"Mean Squared Error: \", metrics.mean_squared_error(y_test5, y_pred5))\n",
    "print(\"Root Mean Squared Error: \", np.sqrt(metrics.mean_squared_error(y_test5, y_pred5)))\n",
    "print(\"R2 Score: \", metrics.r2_score(y_test5, y_pred5))"
   ]
  },
  {
   "cell_type": "markdown",
   "metadata": {},
   "source": [
    "# B. Pengujian Prediksi Regresi Linear\n",
    "> Berdasarkan hasil pengujian dari model regresi linear yang ada. Maka dirancang pemodelan untuk melakukan prediksi pada tiap tiap model data test."
   ]
  },
  {
   "cell_type": "markdown",
   "metadata": {},
   "source": [
    "# Test 1"
   ]
  },
  {
   "cell_type": "code",
   "execution_count": 1188,
   "metadata": {},
   "outputs": [
    {
     "data": {
      "image/png": "[encoded data removed]",
      "text/plain": [
       "<Figure size 432x288 with 1 Axes>"
      ]
     },
     "metadata": {
      "needs_background": "light"
     },
     "output_type": "display_data"
    }
   ],
   "source": [
    "#Model Prediksi\n",
    "a = x_train1\n",
    "b = y_train1\n",
    "c = x_test1\n",
    "d = y_pred1\n",
    "plt.scatter(a,b)\n",
    "plt.scatter(c,d)\n",
    "plt.xlabel(\"Tahun\")\n",
    "plt.ylabel(\"GK Makanan\")\n",
    "plt.grid()"
   ]
  },
  {
   "cell_type": "code",
   "execution_count": 1189,
   "metadata": {},
   "outputs": [],
   "source": [
    "x_train1 = test1[\"Tahun\"].values.reshape(-1,1)\n",
    "y_train1 = test1[\"GK Makanan\"].values.reshape(-1,1)"
   ]
  },
  {
   "cell_type": "code",
   "execution_count": 1190,
   "metadata": {},
   "outputs": [],
   "source": [
    "x_test1 = test1[\"Tahun\"].values.reshape(-1,1)"
   ]
  },
  {
   "cell_type": "code",
   "execution_count": 1191,
   "metadata": {},
   "outputs": [
    {
     "data": {
      "text/plain": [
       "array([[2022],\n",
       "       [2021],\n",
       "       [2020],\n",
       "       [2019],\n",
       "       [2018],\n",
       "       [2017],\n",
       "       [2016],\n",
       "       [2015]], dtype=int64)"
      ]
     },
     "execution_count": 1191,
     "metadata": {},
     "output_type": "execute_result"
    }
   ],
   "source": [
    "x_test1"
   ]
  },
  {
   "cell_type": "code",
   "execution_count": 1192,
   "metadata": {},
   "outputs": [],
   "source": [
    "y_pred1 = regressor1.predict(x_test1)"
   ]
  },
  {
   "cell_type": "code",
   "execution_count": 1193,
   "metadata": {},
   "outputs": [
    {
     "data": {
      "text/plain": [
       "array([[375854.],\n",
       "       [355592.],\n",
       "       [335330.],\n",
       "       [315068.],\n",
       "       [294806.],\n",
       "       [274544.],\n",
       "       [254282.],\n",
       "       [234020.]])"
      ]
     },
     "execution_count": 1193,
     "metadata": {},
     "output_type": "execute_result"
    }
   ],
   "source": [
    "y_pred1"
   ]
  },
  {
   "cell_type": "code",
   "execution_count": 1194,
   "metadata": {},
   "outputs": [
    {
     "data": {
      "image/png": "[encoded data removed]",
      "text/plain": [
       "<Figure size 432x288 with 1 Axes>"
      ]
     },
     "metadata": {
      "needs_background": "light"
     },
     "output_type": "display_data"
    }
   ],
   "source": [
    "#Visualisasi nilai prediksi\n",
    "plt.scatter(x_test1, y_pred1)\n",
    "plt.grid()"
   ]
  },
  {
   "cell_type": "code",
   "execution_count": 1195,
   "metadata": {},
   "outputs": [
    {
     "data": {
      "image/png": "[encoded data removed]",
      "text/plain": [
       "<Figure size 432x288 with 1 Axes>"
      ]
     },
     "metadata": {
      "needs_background": "light"
     },
     "output_type": "display_data"
    }
   ],
   "source": [
    "#Penyebaran nilai untuk diprediksi dan data sebenarnya\n",
    "a = x_train1\n",
    "b = y_train1\n",
    "c = x_test1\n",
    "d = y_pred1\n",
    "plt.scatter(a,b)\n",
    "plt.scatter(c,d)\n",
    "plt.xlabel(\"Tahun\")\n",
    "plt.ylabel(\"GK Makanan\")\n",
    "plt.grid()"
   ]
  },
  {
   "cell_type": "markdown",
   "metadata": {},
   "source": [
    "# Test 2"
   ]
  },
  {
   "cell_type": "code",
   "execution_count": 1196,
   "metadata": {},
   "outputs": [
    {
     "data": {
      "image/png": "[encoded data removed]",
      "text/plain": [
       "<Figure size 432x288 with 1 Axes>"
      ]
     },
     "metadata": {
      "needs_background": "light"
     },
     "output_type": "display_data"
    }
   ],
   "source": [
    "#Model Prediksi\n",
    "a = x_train2\n",
    "b = y_train2\n",
    "c = x_test2\n",
    "d = y_pred2\n",
    "plt.scatter(a,b)\n",
    "plt.scatter(c,d)\n",
    "plt.xlabel(\"Tahun\")\n",
    "plt.ylabel(\"GK Non Makanan\")\n",
    "plt.grid()"
   ]
  },
  {
   "cell_type": "code",
   "execution_count": 1197,
   "metadata": {},
   "outputs": [],
   "source": [
    "x_train2 = test2[\"Tahun\"].values.reshape(-1,1)\n",
    "y_train2 = test2[\"GK Non Makanan\"].values.reshape(-1,1)"
   ]
  },
  {
   "cell_type": "code",
   "execution_count": 1198,
   "metadata": {},
   "outputs": [],
   "source": [
    "x_test2 = test2[\"Tahun\"].values.reshape(-1,1)"
   ]
  },
  {
   "cell_type": "code",
   "execution_count": 1199,
   "metadata": {},
   "outputs": [
    {
     "data": {
      "text/plain": [
       "array([[2022],\n",
       "       [2021],\n",
       "       [2020],\n",
       "       [2019],\n",
       "       [2018],\n",
       "       [2017],\n",
       "       [2016],\n",
       "       [2015]], dtype=int64)"
      ]
     },
     "execution_count": 1199,
     "metadata": {},
     "output_type": "execute_result"
    }
   ],
   "source": [
    "x_test2"
   ]
  },
  {
   "cell_type": "code",
   "execution_count": 1200,
   "metadata": {},
   "outputs": [],
   "source": [
    "y_pred2 = regressor2.predict(x_test2)"
   ]
  },
  {
   "cell_type": "code",
   "execution_count": 1201,
   "metadata": {},
   "outputs": [
    {
     "data": {
      "text/plain": [
       "array([[132338.],\n",
       "       [125857.],\n",
       "       [119376.],\n",
       "       [112895.],\n",
       "       [106414.],\n",
       "       [ 99933.],\n",
       "       [ 93452.],\n",
       "       [ 86971.]])"
      ]
     },
     "execution_count": 1201,
     "metadata": {},
     "output_type": "execute_result"
    }
   ],
   "source": [
    "y_pred2"
   ]
  },
  {
   "cell_type": "code",
   "execution_count": 1202,
   "metadata": {},
   "outputs": [
    {
     "data": {
      "image/png": "[encoded data removed]",
      "text/plain": [
       "<Figure size 432x288 with 1 Axes>"
      ]
     },
     "metadata": {
      "needs_background": "light"
     },
     "output_type": "display_data"
    }
   ],
   "source": [
    "#Visualisasi nilai prediksi\n",
    "plt.scatter(x_test2, y_pred2)\n",
    "plt.grid()"
   ]
  },
  {
   "cell_type": "code",
   "execution_count": 1203,
   "metadata": {},
   "outputs": [
    {
     "data": {
      "image/png": "[encoded data removed]",
      "text/plain": [
       "<Figure size 432x288 with 1 Axes>"
      ]
     },
     "metadata": {
      "needs_background": "light"
     },
     "output_type": "display_data"
    }
   ],
   "source": [
    "#Penyebaran nilai untuk diprediksi dan data sebenarnya\n",
    "a = x_train1\n",
    "b = y_train1\n",
    "c = x_test1\n",
    "d = y_pred1\n",
    "plt.scatter(a,b)\n",
    "plt.scatter(c,d)\n",
    "plt.xlabel(\"Tahun\")\n",
    "plt.ylabel(\"GK Non Makanan\")\n",
    "plt.grid()"
   ]
  },
  {
   "cell_type": "markdown",
   "metadata": {},
   "source": [
    "# Test 3"
   ]
  },
  {
   "cell_type": "code",
   "execution_count": 1204,
   "metadata": {},
   "outputs": [
    {
     "data": {
      "image/png": "[encoded data removed]",
      "text/plain": [
       "<Figure size 432x288 with 1 Axes>"
      ]
     },
     "metadata": {
      "needs_background": "light"
     },
     "output_type": "display_data"
    }
   ],
   "source": [
    "#Model Prediksi\n",
    "a = x_train3\n",
    "b = y_train3\n",
    "c = x_test3\n",
    "d = y_pred3\n",
    "plt.scatter(a,b)\n",
    "plt.scatter(c,d)\n",
    "plt.xlabel(\"Tahun\")\n",
    "plt.ylabel(\"Jumlah\")\n",
    "plt.grid()"
   ]
  },
  {
   "cell_type": "code",
   "execution_count": 1205,
   "metadata": {},
   "outputs": [],
   "source": [
    "x_train3 = test3[\"Tahun\"].values.reshape(-1,1)\n",
    "y_train3 = test3[\"Jumlah\"].values.reshape(-1,1)"
   ]
  },
  {
   "cell_type": "code",
   "execution_count": 1206,
   "metadata": {},
   "outputs": [],
   "source": [
    "x_test3 = test2[\"Tahun\"].values.reshape(-1,1)"
   ]
  },
  {
   "cell_type": "code",
   "execution_count": 1207,
   "metadata": {},
   "outputs": [
    {
     "data": {
      "text/plain": [
       "array([[2022],\n",
       "       [2021],\n",
       "       [2020],\n",
       "       [2019],\n",
       "       [2018],\n",
       "       [2017],\n",
       "       [2016],\n",
       "       [2015]], dtype=int64)"
      ]
     },
     "execution_count": 1207,
     "metadata": {},
     "output_type": "execute_result"
    }
   ],
   "source": [
    "x_test3"
   ]
  },
  {
   "cell_type": "code",
   "execution_count": 1208,
   "metadata": {},
   "outputs": [],
   "source": [
    "y_pred3 = regressor3.predict(x_test3)"
   ]
  },
  {
   "cell_type": "code",
   "execution_count": 1209,
   "metadata": {},
   "outputs": [
    {
     "data": {
      "text/plain": [
       "array([[18664.12],\n",
       "       [20485.54],\n",
       "       [22306.96],\n",
       "       [24128.38],\n",
       "       [25949.8 ],\n",
       "       [27771.22],\n",
       "       [29592.64],\n",
       "       [31414.06]])"
      ]
     },
     "execution_count": 1209,
     "metadata": {},
     "output_type": "execute_result"
    }
   ],
   "source": [
    "y_pred3"
   ]
  },
  {
   "cell_type": "code",
   "execution_count": 1210,
   "metadata": {},
   "outputs": [
    {
     "data": {
      "image/png": "[encoded data removed]",
      "text/plain": [
       "<Figure size 432x288 with 1 Axes>"
      ]
     },
     "metadata": {
      "needs_background": "light"
     },
     "output_type": "display_data"
    }
   ],
   "source": [
    "#Visualisasi nilai prediksi\n",
    "plt.scatter(x_test3, y_pred3)\n",
    "plt.grid()"
   ]
  },
  {
   "cell_type": "code",
   "execution_count": 1211,
   "metadata": {},
   "outputs": [
    {
     "data": {
      "image/png": "[encoded data removed]",
      "text/plain": [
       "<Figure size 432x288 with 1 Axes>"
      ]
     },
     "metadata": {
      "needs_background": "light"
     },
     "output_type": "display_data"
    }
   ],
   "source": [
    "#Penyebaran nilai untuk diprediksi dan data sebenarnya\n",
    "a = x_train3\n",
    "b = y_train3\n",
    "c = x_test3\n",
    "d = y_pred3\n",
    "plt.scatter(a,b)\n",
    "plt.scatter(c,d)\n",
    "plt.xlabel(\"Tahun\")\n",
    "plt.ylabel(\"Jumlah\")\n",
    "plt.grid()"
   ]
  },
  {
   "cell_type": "markdown",
   "metadata": {},
   "source": [
    "# Test 4"
   ]
  },
  {
   "cell_type": "code",
   "execution_count": 1212,
   "metadata": {},
   "outputs": [
    {
     "data": {
      "image/png": "[encoded data removed]",
      "text/plain": [
       "<Figure size 432x288 with 1 Axes>"
      ]
     },
     "metadata": {
      "needs_background": "light"
     },
     "output_type": "display_data"
    }
   ],
   "source": [
    "#Model Prediksi\n",
    "a = x_train4\n",
    "b = y_train4\n",
    "c = x_test4\n",
    "d = y_pred4\n",
    "plt.scatter(a,b)\n",
    "plt.scatter(c,d)\n",
    "plt.xlabel(\"Tahun\")\n",
    "plt.ylabel(\"Persentase\")\n",
    "plt.grid()"
   ]
  },
  {
   "cell_type": "code",
   "execution_count": 1213,
   "metadata": {},
   "outputs": [],
   "source": [
    "x_train4 = test4[\"Tahun\"].values.reshape(-1,1)\n",
    "y_train4 = test4[\"Persentase\"].values.reshape(-1,1)"
   ]
  },
  {
   "cell_type": "code",
   "execution_count": 1214,
   "metadata": {},
   "outputs": [],
   "source": [
    "x_test4 = test4[\"Tahun\"].values.reshape(-1,1)"
   ]
  },
  {
   "cell_type": "code",
   "execution_count": 1215,
   "metadata": {},
   "outputs": [
    {
     "data": {
      "text/plain": [
       "array([[2022],\n",
       "       [2021],\n",
       "       [2020],\n",
       "       [2019],\n",
       "       [2018],\n",
       "       [2017],\n",
       "       [2016],\n",
       "       [2015]], dtype=int64)"
      ]
     },
     "execution_count": 1215,
     "metadata": {},
     "output_type": "execute_result"
    }
   ],
   "source": [
    "x_test4"
   ]
  },
  {
   "cell_type": "code",
   "execution_count": 1216,
   "metadata": {},
   "outputs": [],
   "source": [
    "y_pred4 = regressor4.predict(x_test4)"
   ]
  },
  {
   "cell_type": "code",
   "execution_count": 1217,
   "metadata": {},
   "outputs": [
    {
     "data": {
      "text/plain": [
       "array([[ 6.54],\n",
       "       [ 7.36],\n",
       "       [ 8.18],\n",
       "       [ 9.  ],\n",
       "       [ 9.82],\n",
       "       [10.64],\n",
       "       [11.46],\n",
       "       [12.28]])"
      ]
     },
     "execution_count": 1217,
     "metadata": {},
     "output_type": "execute_result"
    }
   ],
   "source": [
    "y_pred4"
   ]
  },
  {
   "cell_type": "code",
   "execution_count": 1218,
   "metadata": {},
   "outputs": [
    {
     "data": {
      "image/png": "[encoded data removed]",
      "text/plain": [
       "<Figure size 432x288 with 1 Axes>"
      ]
     },
     "metadata": {
      "needs_background": "light"
     },
     "output_type": "display_data"
    }
   ],
   "source": [
    "#Visualisasi nilai prediksi\n",
    "plt.scatter(x_test4, y_pred4)\n",
    "plt.grid()"
   ]
  },
  {
   "cell_type": "code",
   "execution_count": 1219,
   "metadata": {},
   "outputs": [
    {
     "data": {
      "image/png": "[encoded data removed]",
      "text/plain": [
       "<Figure size 432x288 with 1 Axes>"
      ]
     },
     "metadata": {
      "needs_background": "light"
     },
     "output_type": "display_data"
    }
   ],
   "source": [
    "#Penyebaran nilai untuk diprediksi dan data sebenarnya\n",
    "a = x_train4\n",
    "b = y_train4\n",
    "c = x_test4\n",
    "d = y_pred4\n",
    "plt.scatter(a,b)\n",
    "plt.scatter(c,d)\n",
    "plt.xlabel(\"Tahun\")\n",
    "plt.ylabel(\"Persentase\")\n",
    "plt.grid()"
   ]
  },
  {
   "cell_type": "markdown",
   "metadata": {},
   "source": [
    "# Test 5"
   ]
  },
  {
   "cell_type": "code",
   "execution_count": 1220,
   "metadata": {},
   "outputs": [
    {
     "data": {
      "image/png": "[encoded data removed]",
      "text/plain": [
       "<Figure size 432x288 with 1 Axes>"
      ]
     },
     "metadata": {
      "needs_background": "light"
     },
     "output_type": "display_data"
    }
   ],
   "source": [
    "#Model Prediksi\n",
    "a = x_train5\n",
    "b = y_train5\n",
    "c = x_test5\n",
    "d = y_pred5\n",
    "plt.scatter(a,b)\n",
    "plt.scatter(c,d)\n",
    "plt.xlabel(\"Tahun\")\n",
    "plt.ylabel(\"Gini Rasio\")\n",
    "plt.grid()"
   ]
  },
  {
   "cell_type": "code",
   "execution_count": 1221,
   "metadata": {},
   "outputs": [],
   "source": [
    "x_train5 = test5[\"Tahun\"].values.reshape(-1,1)\n",
    "y_train5 = test5[\"Gini Rasio\"].values.reshape(-1,1)"
   ]
  },
  {
   "cell_type": "code",
   "execution_count": 1222,
   "metadata": {},
   "outputs": [],
   "source": [
    "x_test5 = test5[\"Tahun\"].values.reshape(-1,1)"
   ]
  },
  {
   "cell_type": "code",
   "execution_count": 1223,
   "metadata": {},
   "outputs": [
    {
     "data": {
      "text/plain": [
       "array([[2022],\n",
       "       [2021],\n",
       "       [2020],\n",
       "       [2019],\n",
       "       [2018],\n",
       "       [2017],\n",
       "       [2016],\n",
       "       [2015]], dtype=int64)"
      ]
     },
     "execution_count": 1223,
     "metadata": {},
     "output_type": "execute_result"
    }
   ],
   "source": [
    "x_test5"
   ]
  },
  {
   "cell_type": "code",
   "execution_count": 1224,
   "metadata": {},
   "outputs": [],
   "source": [
    "y_pred5 = regressor5.predict(x_test5)"
   ]
  },
  {
   "cell_type": "code",
   "execution_count": 1225,
   "metadata": {},
   "outputs": [
    {
     "data": {
      "text/plain": [
       "array([[0.37456],\n",
       "       [0.37817],\n",
       "       [0.38178],\n",
       "       [0.38539],\n",
       "       [0.389  ],\n",
       "       [0.39261],\n",
       "       [0.39622],\n",
       "       [0.39983]])"
      ]
     },
     "execution_count": 1225,
     "metadata": {},
     "output_type": "execute_result"
    }
   ],
   "source": [
    "y_pred5"
   ]
  },
  {
   "cell_type": "code",
   "execution_count": 1226,
   "metadata": {},
   "outputs": [
    {
     "data": {
      "image/png": "[encoded data removed]",
      "text/plain": [
       "<Figure size 432x288 with 1 Axes>"
      ]
     },
     "metadata": {
      "needs_background": "light"
     },
     "output_type": "display_data"
    }
   ],
   "source": [
    "#Visualisasi nilai prediksi\n",
    "plt.scatter(x_test5, y_pred5)\n",
    "plt.grid()"
   ]
  },
  {
   "cell_type": "code",
   "execution_count": 1227,
   "metadata": {},
   "outputs": [
    {
     "data": {
      "image/png": "[encoded data removed]",
      "text/plain": [
       "<Figure size 432x288 with 1 Axes>"
      ]
     },
     "metadata": {
      "needs_background": "light"
     },
     "output_type": "display_data"
    }
   ],
   "source": [
    "#Penyebaran nilai untuk diprediksi dan data sebenarnya\n",
    "a = x_train5\n",
    "b = y_train5\n",
    "c = x_test5\n",
    "d = y_pred5\n",
    "plt.scatter(a,b)\n",
    "plt.scatter(c,d)\n",
    "plt.xlabel(\"Tahun\")\n",
    "plt.ylabel(\"Gini Rasio\")\n",
    "plt.grid()"
   ]
  },
  {
   "cell_type": "markdown",
   "metadata": {},
   "source": [
    "# BAB 6 : Deployment\n",
    "# A. Pembuatan model prediksi\n",
    "> Untuk memberikan gambaran prediksi dari tahun terhadap kemiskinan, maka dibangun model prediksi yang berdasarkan hasil penelitian."
   ]
  },
  {
   "cell_type": "code",
   "execution_count": 1344,
   "metadata": {},
   "outputs": [
    {
     "name": "stdout",
     "output_type": "stream",
     "text": [
      "Tahun Prediksi Kemiskinan di Indonesia : 2023\n",
      "Nilai Prediksi GK Makanan(Rupiah/Bulan)          :  [[396116.]]\n",
      "Nilai Prediksi GK Non Makanan(Rupiah/Bulan)      :  [[138819.]]\n",
      "Nilai Prediksi Jumlah Penduduk Miskin(Ribu Jiwa) :  [[25745.8472]]\n",
      "Nilai Prediksi Persentase Penduduk Miskin        :  [[9.2413]]\n",
      "Nilai Prediksi Gini Rasio                        :  [[0.3756895]]\n"
     ]
    },
    {
     "name": "stderr",
     "output_type": "stream",
     "text": [
      "C:\\Users\\Reyhan\\AppData\\Local\\Programs\\Python\\Python310\\lib\\site-packages\\sklearn\\base.py:566: FutureWarning: Arrays of bytes/strings is being converted to decimal numbers if dtype='numeric'. This behavior is deprecated in 0.24 and will be removed in 1.1 (renaming of 0.26). Please convert your data to numeric values explicitly instead.\n",
      "  X = check_array(X, **check_params)\n",
      "C:\\Users\\Reyhan\\AppData\\Local\\Programs\\Python\\Python310\\lib\\site-packages\\sklearn\\base.py:566: FutureWarning: Arrays of bytes/strings is being converted to decimal numbers if dtype='numeric'. This behavior is deprecated in 0.24 and will be removed in 1.1 (renaming of 0.26). Please convert your data to numeric values explicitly instead.\n",
      "  X = check_array(X, **check_params)\n",
      "C:\\Users\\Reyhan\\AppData\\Local\\Programs\\Python\\Python310\\lib\\site-packages\\sklearn\\base.py:566: FutureWarning: Arrays of bytes/strings is being converted to decimal numbers if dtype='numeric'. This behavior is deprecated in 0.24 and will be removed in 1.1 (renaming of 0.26). Please convert your data to numeric values explicitly instead.\n",
      "  X = check_array(X, **check_params)\n",
      "C:\\Users\\Reyhan\\AppData\\Local\\Programs\\Python\\Python310\\lib\\site-packages\\sklearn\\base.py:566: FutureWarning: Arrays of bytes/strings is being converted to decimal numbers if dtype='numeric'. This behavior is deprecated in 0.24 and will be removed in 1.1 (renaming of 0.26). Please convert your data to numeric values explicitly instead.\n",
      "  X = check_array(X, **check_params)\n",
      "C:\\Users\\Reyhan\\AppData\\Local\\Programs\\Python\\Python310\\lib\\site-packages\\sklearn\\base.py:566: FutureWarning: Arrays of bytes/strings is being converted to decimal numbers if dtype='numeric'. This behavior is deprecated in 0.24 and will be removed in 1.1 (renaming of 0.26). Please convert your data to numeric values explicitly instead.\n",
      "  X = check_array(X, **check_params)\n"
     ]
    }
   ],
   "source": [
    "#test cek input\n",
    "cek_nilai=input(\"Tahun Prediksi Kemiskinan di Indonesia : \")\n",
    "hasil_prediksi1=regressor1.predict([[cek_nilai]]);\n",
    "hasil_prediksi2=regressor2.predict([[cek_nilai]]);\n",
    "hasil_prediksi3=regressor3.predict([[cek_nilai]]);\n",
    "hasil_prediksi4=regressor4.predict([[cek_nilai]]);\n",
    "hasil_prediksi5=regressor5.predict([[cek_nilai]]);\n",
    "\n",
    "print(\"Nilai Prediksi GK Makanan(Rupiah/Bulan)          : \",hasil_prediksi1)\n",
    "print(\"Nilai Prediksi GK Non Makanan(Rupiah/Bulan)      : \",hasil_prediksi2)\n",
    "print(\"Nilai Prediksi Jumlah Penduduk Miskin(Ribu Jiwa) : \",hasil_prediksi3)\n",
    "print(\"Nilai Prediksi Persentase Penduduk Miskin        : \",hasil_prediksi4)\n",
    "print(\"Nilai Prediksi Gini Rasio                        : \",hasil_prediksi5)"
   ]
  },
  {
   "cell_type": "markdown",
   "metadata": {},
   "source": [
    "# B. Kesimpulan\n",
    "> Dalam penelitian ini dapat diketahui bahwa setiap tahunnya Garis Kemiskinan di Indonesia selalu mengalami kenaikan. Pada Melalui pemodelan prediksi yang dilakukan pada penelitian ini di dapatkan nilai akurasi untuk garis kemiskinan makanan ialah sebesar 98,88%, sementara pada garis kemiskinan non makanan ialah 99,05%. Sementara untuk jumlah penduduk miskin, persentase penduduk miskin senantiasa mengalami penurunan, dan mengalami kenaikan sejak tahun 2019. Hal tersebut di sebabkan dengan wabah covid 19 yang melanda dunia. Hal tersebut juga menyebabkan nilai data menjadi tidak linear sehingga tidak mendapatkan nilai akurasi yang baik. Berdasarkan pemodelan yang dibuat nilai akurasi pada jumlah penduduk miskin ialah 82,44%, persentase penduduk miskin ialah 93,10, dan gini rasio ialah 84,35%.\n",
    "\n",
    "> Dalam penelitian ini juga dilakukan nilai prediksi pada tahun 2023, maka di dapatkan hasil nilai garis kemiskinan sebesar RP.396.116/Bulan , garis kemiskinan non makanan sebesar Rp.138.819/Bulan, Jumlah penduduk miskin sebesar 25.745.847 jiwa, dengan persentase penduduk miskin sebesar 9.24% dan Gini rasio sebesar 0.37."
   ]
  },
  {
   "cell_type": "markdown",
   "metadata": {},
   "source": [
    "# C. Saran\n",
    "> Dalam penelitian selanjutnya dapat ditingkatkan jumlah data yang akan di analisis. Hal tersebut untuk memberikan nilai prediksi yang lebih baik berdasarkan variabel data yang lebih bervariatif."
   ]
  }
 ],
 "metadata": {
  "colab": {
   "provenance": []
  },
  "kernelspec": {
   "display_name": "Python 3 (ipykernel)",
   "language": "python",
   "name": "python3"
  },
  "language_info": {
   "codemirror_mode": {
    "name": "ipython",
    "version": 3
   },
   "file_extension": ".py",
   "mimetype": "text/x-python",
   "name": "python",
   "nbconvert_exporter": "python",
   "pygments_lexer": "ipython3",
   "version": "3.10.2"
  }
 },
 "nbformat": 4,
 "nbformat_minor": 1
}
